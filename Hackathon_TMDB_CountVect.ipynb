{
 "cells": [
  {
   "cell_type": "markdown",
   "metadata": {},
   "source": [
    "# Hackathon: Box Office Prediction"
   ]
  },
  {
   "cell_type": "code",
   "execution_count": 4,
   "metadata": {},
   "outputs": [],
   "source": [
    "import pandas as pd\n",
    "import numpy as np\n",
    "import matplotlib.pyplot as plt\n",
    "import seaborn as sns\n",
    "\n",
    "# modeling imports\n",
    "from sklearn.linear_model import LinearRegression # import the LinearRegression class\n",
    "from sklearn import metrics\n",
    "from sklearn.model_selection import train_test_split, cross_val_score, GridSearchCV, cross_val_score\n",
    "\n",
    "from sklearn.ensemble import RandomForestRegressor\n",
    "\n",
    "import warnings"
   ]
  },
  {
   "cell_type": "code",
   "execution_count": 141,
   "metadata": {},
   "outputs": [
    {
     "data": {
      "text/plain": [
       "(2609, 14)"
      ]
     },
     "execution_count": 141,
     "metadata": {},
     "output_type": "execute_result"
    }
   ],
   "source": [
    "tmdb_orig = pd.read_csv('./data/train.csv')\n",
    "\n",
    "# drop the following columns due to: large number of missing values (belongs_to_collection), 3000 unique values (homepage, imdb_id, poster_path)\n",
    "# keyword is stronger (original_title, overview, tagline, title), one dominant trait (status)\n",
    "\n",
    "drop_cols = ['id','belongs_to_collection', 'homepage','imdb_id','original_title',\n",
    "            'overview','poster_path','status','tagline']\n",
    "\n",
    "tmdb_orig.drop(columns=drop_cols, inplace=True)\n",
    "\n",
    "tmdb_orig.dropna(inplace=True)\n",
    "tmdb_orig.reset_index(inplace=True, drop=True)\n",
    "\n",
    "tmdb_orig.shape"
   ]
  },
  {
   "cell_type": "code",
   "execution_count": 6,
   "metadata": {},
   "outputs": [
    {
     "data": {
      "text/html": [
       "<div>\n",
       "<style scoped>\n",
       "    .dataframe tbody tr th:only-of-type {\n",
       "        vertical-align: middle;\n",
       "    }\n",
       "\n",
       "    .dataframe tbody tr th {\n",
       "        vertical-align: top;\n",
       "    }\n",
       "\n",
       "    .dataframe thead th {\n",
       "        text-align: right;\n",
       "    }\n",
       "</style>\n",
       "<table border=\"1\" class=\"dataframe\">\n",
       "  <thead>\n",
       "    <tr style=\"text-align: right;\">\n",
       "      <th></th>\n",
       "      <th>title</th>\n",
       "      <th>budget</th>\n",
       "      <th>original_language</th>\n",
       "      <th>popularity</th>\n",
       "      <th>release_date</th>\n",
       "      <th>runtime</th>\n",
       "      <th>revenue</th>\n",
       "    </tr>\n",
       "  </thead>\n",
       "  <tbody>\n",
       "    <tr>\n",
       "      <th>0</th>\n",
       "      <td>Hot Tub Time Machine 2</td>\n",
       "      <td>14000000</td>\n",
       "      <td>en</td>\n",
       "      <td>6.575393</td>\n",
       "      <td>2/20/15</td>\n",
       "      <td>93.0</td>\n",
       "      <td>12314651</td>\n",
       "    </tr>\n",
       "    <tr>\n",
       "      <th>1</th>\n",
       "      <td>The Princess Diaries 2: Royal Engagement</td>\n",
       "      <td>40000000</td>\n",
       "      <td>en</td>\n",
       "      <td>8.248895</td>\n",
       "      <td>8/6/04</td>\n",
       "      <td>113.0</td>\n",
       "      <td>95149435</td>\n",
       "    </tr>\n",
       "    <tr>\n",
       "      <th>2</th>\n",
       "      <td>Whiplash</td>\n",
       "      <td>3300000</td>\n",
       "      <td>en</td>\n",
       "      <td>64.299990</td>\n",
       "      <td>10/10/14</td>\n",
       "      <td>105.0</td>\n",
       "      <td>13092000</td>\n",
       "    </tr>\n",
       "    <tr>\n",
       "      <th>3</th>\n",
       "      <td>Muppet Treasure Island</td>\n",
       "      <td>0</td>\n",
       "      <td>en</td>\n",
       "      <td>6.902423</td>\n",
       "      <td>2/16/96</td>\n",
       "      <td>100.0</td>\n",
       "      <td>34327391</td>\n",
       "    </tr>\n",
       "    <tr>\n",
       "      <th>4</th>\n",
       "      <td>A Mighty Wind</td>\n",
       "      <td>6000000</td>\n",
       "      <td>en</td>\n",
       "      <td>4.672036</td>\n",
       "      <td>4/16/03</td>\n",
       "      <td>91.0</td>\n",
       "      <td>18750246</td>\n",
       "    </tr>\n",
       "  </tbody>\n",
       "</table>\n",
       "</div>"
      ],
      "text/plain": [
       "                                      title    budget original_language  \\\n",
       "0                    Hot Tub Time Machine 2  14000000                en   \n",
       "1  The Princess Diaries 2: Royal Engagement  40000000                en   \n",
       "2                                  Whiplash   3300000                en   \n",
       "3                    Muppet Treasure Island         0                en   \n",
       "4                             A Mighty Wind   6000000                en   \n",
       "\n",
       "   popularity release_date  runtime   revenue  \n",
       "0    6.575393      2/20/15     93.0  12314651  \n",
       "1    8.248895       8/6/04    113.0  95149435  \n",
       "2   64.299990     10/10/14    105.0  13092000  \n",
       "3    6.902423      2/16/96    100.0  34327391  \n",
       "4    4.672036      4/16/03     91.0  18750246  "
      ]
     },
     "execution_count": 6,
     "metadata": {},
     "output_type": "execute_result"
    }
   ],
   "source": [
    "num_features = ['title','budget','original_language','popularity','release_date','runtime','revenue']\n",
    "tmdb = tmdb_orig[num_features]\n",
    "tmdb.head()"
   ]
  },
  {
   "cell_type": "code",
   "execution_count": 233,
   "metadata": {},
   "outputs": [
    {
     "data": {
      "text/plain": [
       "en    0.879708\n",
       "fr    0.024596\n",
       "es    0.014988\n",
       "ja    0.010761\n",
       "hi    0.010377\n",
       "Name: original_language, dtype: float64"
      ]
     },
     "execution_count": 233,
     "metadata": {},
     "output_type": "execute_result"
    }
   ],
   "source": [
    "tmdb['original_language'].value_counts(normalize=True).head()"
   ]
  },
  {
   "cell_type": "code",
   "execution_count": 235,
   "metadata": {},
   "outputs": [
    {
     "data": {
      "text/html": [
       "<div>\n",
       "<style scoped>\n",
       "    .dataframe tbody tr th:only-of-type {\n",
       "        vertical-align: middle;\n",
       "    }\n",
       "\n",
       "    .dataframe tbody tr th {\n",
       "        vertical-align: top;\n",
       "    }\n",
       "\n",
       "    .dataframe thead th {\n",
       "        text-align: right;\n",
       "    }\n",
       "</style>\n",
       "<table border=\"1\" class=\"dataframe\">\n",
       "  <thead>\n",
       "    <tr style=\"text-align: right;\">\n",
       "      <th></th>\n",
       "      <th>title</th>\n",
       "      <th>budget</th>\n",
       "      <th>original_language</th>\n",
       "      <th>popularity</th>\n",
       "      <th>release_date</th>\n",
       "      <th>runtime</th>\n",
       "      <th>revenue</th>\n",
       "      <th>month</th>\n",
       "      <th>year</th>\n",
       "      <th>log_revenue</th>\n",
       "    </tr>\n",
       "  </thead>\n",
       "  <tbody>\n",
       "    <tr>\n",
       "      <th>1856</th>\n",
       "      <td>Pirates of the Caribbean: On Stranger Tides</td>\n",
       "      <td>380000000</td>\n",
       "      <td>en</td>\n",
       "      <td>27.88772</td>\n",
       "      <td>2011-05-14</td>\n",
       "      <td>136.0</td>\n",
       "      <td>1045713802</td>\n",
       "      <td>5</td>\n",
       "      <td>2011</td>\n",
       "      <td>20.767966</td>\n",
       "    </tr>\n",
       "  </tbody>\n",
       "</table>\n",
       "</div>"
      ],
      "text/plain": [
       "                                            title     budget  \\\n",
       "1856  Pirates of the Caribbean: On Stranger Tides  380000000   \n",
       "\n",
       "     original_language  popularity release_date  runtime     revenue  month  \\\n",
       "1856                en    27.88772   2011-05-14    136.0  1045713802      5   \n",
       "\n",
       "      year  log_revenue  \n",
       "1856  2011    20.767966  "
      ]
     },
     "execution_count": 235,
     "metadata": {},
     "output_type": "execute_result"
    }
   ],
   "source": [
    "tmdb[tmdb['budget']==380_000_000]"
   ]
  },
  {
   "cell_type": "code",
   "execution_count": 236,
   "metadata": {},
   "outputs": [
    {
     "data": {
      "text/html": [
       "<div>\n",
       "<style scoped>\n",
       "    .dataframe tbody tr th:only-of-type {\n",
       "        vertical-align: middle;\n",
       "    }\n",
       "\n",
       "    .dataframe tbody tr th {\n",
       "        vertical-align: top;\n",
       "    }\n",
       "\n",
       "    .dataframe thead th {\n",
       "        text-align: right;\n",
       "    }\n",
       "</style>\n",
       "<table border=\"1\" class=\"dataframe\">\n",
       "  <thead>\n",
       "    <tr style=\"text-align: right;\">\n",
       "      <th></th>\n",
       "      <th>title</th>\n",
       "      <th>budget</th>\n",
       "      <th>original_language</th>\n",
       "      <th>popularity</th>\n",
       "      <th>release_date</th>\n",
       "      <th>runtime</th>\n",
       "      <th>revenue</th>\n",
       "      <th>month</th>\n",
       "      <th>year</th>\n",
       "      <th>log_revenue</th>\n",
       "    </tr>\n",
       "  </thead>\n",
       "  <tbody>\n",
       "    <tr>\n",
       "      <th>979</th>\n",
       "      <td>The Avengers</td>\n",
       "      <td>220000000</td>\n",
       "      <td>en</td>\n",
       "      <td>89.887648</td>\n",
       "      <td>2012-04-25</td>\n",
       "      <td>143.0</td>\n",
       "      <td>1519557910</td>\n",
       "      <td>4</td>\n",
       "      <td>2012</td>\n",
       "      <td>21.141685</td>\n",
       "    </tr>\n",
       "  </tbody>\n",
       "</table>\n",
       "</div>"
      ],
      "text/plain": [
       "            title     budget original_language  popularity release_date  \\\n",
       "979  The Avengers  220000000                en   89.887648   2012-04-25   \n",
       "\n",
       "     runtime     revenue  month  year  log_revenue  \n",
       "979    143.0  1519557910      4  2012    21.141685  "
      ]
     },
     "execution_count": 236,
     "metadata": {},
     "output_type": "execute_result"
    }
   ],
   "source": [
    "tmdb[tmdb['revenue']==tmdb['revenue'].max()]"
   ]
  },
  {
   "cell_type": "markdown",
   "metadata": {},
   "source": [
    "## Check for null values and remove"
   ]
  },
  {
   "cell_type": "code",
   "execution_count": 7,
   "metadata": {},
   "outputs": [
    {
     "data": {
      "text/plain": [
       "title                0\n",
       "budget               0\n",
       "original_language    0\n",
       "popularity           0\n",
       "release_date         0\n",
       "runtime              0\n",
       "revenue              0\n",
       "dtype: int64"
      ]
     },
     "execution_count": 7,
     "metadata": {},
     "output_type": "execute_result"
    }
   ],
   "source": [
    "tmdb.isnull().sum()"
   ]
  },
  {
   "cell_type": "code",
   "execution_count": 8,
   "metadata": {},
   "outputs": [
    {
     "name": "stderr",
     "output_type": "stream",
     "text": [
      "<ipython-input-8-2dfc0c5a033e>:2: SettingWithCopyWarning: \n",
      "A value is trying to be set on a copy of a slice from a DataFrame.\n",
      "Try using .loc[row_indexer,col_indexer] = value instead\n",
      "\n",
      "See the caveats in the documentation: https://pandas.pydata.org/pandas-docs/stable/user_guide/indexing.html#returning-a-view-versus-a-copy\n",
      "  tmdb['release_date'] = pd.to_datetime(tmdb['release_date'])\n",
      "<ipython-input-8-2dfc0c5a033e>:3: SettingWithCopyWarning: \n",
      "A value is trying to be set on a copy of a slice from a DataFrame.\n",
      "Try using .loc[row_indexer,col_indexer] = value instead\n",
      "\n",
      "See the caveats in the documentation: https://pandas.pydata.org/pandas-docs/stable/user_guide/indexing.html#returning-a-view-versus-a-copy\n",
      "  tmdb['month'] = pd.DatetimeIndex(tmdb['release_date']).month\n",
      "<ipython-input-8-2dfc0c5a033e>:4: SettingWithCopyWarning: \n",
      "A value is trying to be set on a copy of a slice from a DataFrame.\n",
      "Try using .loc[row_indexer,col_indexer] = value instead\n",
      "\n",
      "See the caveats in the documentation: https://pandas.pydata.org/pandas-docs/stable/user_guide/indexing.html#returning-a-view-versus-a-copy\n",
      "  tmdb['year'] = pd.DatetimeIndex(tmdb['release_date']).year\n"
     ]
    }
   ],
   "source": [
    "# convert date to extract month and year\n",
    "tmdb['release_date'] = pd.to_datetime(tmdb['release_date'])\n",
    "tmdb['month'] = pd.DatetimeIndex(tmdb['release_date']).month\n",
    "tmdb['year'] = pd.DatetimeIndex(tmdb['release_date']).year"
   ]
  },
  {
   "cell_type": "code",
   "execution_count": 9,
   "metadata": {},
   "outputs": [
    {
     "data": {
      "text/html": [
       "<div>\n",
       "<style scoped>\n",
       "    .dataframe tbody tr th:only-of-type {\n",
       "        vertical-align: middle;\n",
       "    }\n",
       "\n",
       "    .dataframe tbody tr th {\n",
       "        vertical-align: top;\n",
       "    }\n",
       "\n",
       "    .dataframe thead th {\n",
       "        text-align: right;\n",
       "    }\n",
       "</style>\n",
       "<table border=\"1\" class=\"dataframe\">\n",
       "  <thead>\n",
       "    <tr style=\"text-align: right;\">\n",
       "      <th></th>\n",
       "      <th>budget</th>\n",
       "      <th>popularity</th>\n",
       "      <th>runtime</th>\n",
       "      <th>revenue</th>\n",
       "      <th>month</th>\n",
       "      <th>year</th>\n",
       "    </tr>\n",
       "  </thead>\n",
       "  <tbody>\n",
       "    <tr>\n",
       "      <th>count</th>\n",
       "      <td>2.609000e+03</td>\n",
       "      <td>2609.000000</td>\n",
       "      <td>2609.000000</td>\n",
       "      <td>2.609000e+03</td>\n",
       "      <td>2609.000000</td>\n",
       "      <td>2609.000000</td>\n",
       "    </tr>\n",
       "    <tr>\n",
       "      <th>mean</th>\n",
       "      <td>2.483175e+07</td>\n",
       "      <td>9.072135</td>\n",
       "      <td>108.769644</td>\n",
       "      <td>7.367050e+07</td>\n",
       "      <td>6.817555</td>\n",
       "      <td>2005.016098</td>\n",
       "    </tr>\n",
       "    <tr>\n",
       "      <th>std</th>\n",
       "      <td>3.822689e+07</td>\n",
       "      <td>11.344896</td>\n",
       "      <td>21.497669</td>\n",
       "      <td>1.422334e+08</td>\n",
       "      <td>3.406122</td>\n",
       "      <td>16.512722</td>\n",
       "    </tr>\n",
       "    <tr>\n",
       "      <th>min</th>\n",
       "      <td>0.000000e+00</td>\n",
       "      <td>0.000578</td>\n",
       "      <td>0.000000</td>\n",
       "      <td>1.000000e+00</td>\n",
       "      <td>1.000000</td>\n",
       "      <td>1971.000000</td>\n",
       "    </tr>\n",
       "    <tr>\n",
       "      <th>25%</th>\n",
       "      <td>1.510000e+05</td>\n",
       "      <td>5.184013</td>\n",
       "      <td>95.000000</td>\n",
       "      <td>3.956913e+06</td>\n",
       "      <td>4.000000</td>\n",
       "      <td>1995.000000</td>\n",
       "    </tr>\n",
       "    <tr>\n",
       "      <th>50%</th>\n",
       "      <td>1.028452e+07</td>\n",
       "      <td>7.903956</td>\n",
       "      <td>105.000000</td>\n",
       "      <td>2.110775e+07</td>\n",
       "      <td>7.000000</td>\n",
       "      <td>2005.000000</td>\n",
       "    </tr>\n",
       "    <tr>\n",
       "      <th>75%</th>\n",
       "      <td>3.200000e+07</td>\n",
       "      <td>11.239012</td>\n",
       "      <td>119.000000</td>\n",
       "      <td>8.093623e+07</td>\n",
       "      <td>10.000000</td>\n",
       "      <td>2012.000000</td>\n",
       "    </tr>\n",
       "    <tr>\n",
       "      <th>max</th>\n",
       "      <td>3.800000e+08</td>\n",
       "      <td>287.253654</td>\n",
       "      <td>338.000000</td>\n",
       "      <td>1.519558e+09</td>\n",
       "      <td>12.000000</td>\n",
       "      <td>2070.000000</td>\n",
       "    </tr>\n",
       "  </tbody>\n",
       "</table>\n",
       "</div>"
      ],
      "text/plain": [
       "             budget   popularity      runtime       revenue        month  \\\n",
       "count  2.609000e+03  2609.000000  2609.000000  2.609000e+03  2609.000000   \n",
       "mean   2.483175e+07     9.072135   108.769644  7.367050e+07     6.817555   \n",
       "std    3.822689e+07    11.344896    21.497669  1.422334e+08     3.406122   \n",
       "min    0.000000e+00     0.000578     0.000000  1.000000e+00     1.000000   \n",
       "25%    1.510000e+05     5.184013    95.000000  3.956913e+06     4.000000   \n",
       "50%    1.028452e+07     7.903956   105.000000  2.110775e+07     7.000000   \n",
       "75%    3.200000e+07    11.239012   119.000000  8.093623e+07    10.000000   \n",
       "max    3.800000e+08   287.253654   338.000000  1.519558e+09    12.000000   \n",
       "\n",
       "              year  \n",
       "count  2609.000000  \n",
       "mean   2005.016098  \n",
       "std      16.512722  \n",
       "min    1971.000000  \n",
       "25%    1995.000000  \n",
       "50%    2005.000000  \n",
       "75%    2012.000000  \n",
       "max    2070.000000  "
      ]
     },
     "execution_count": 9,
     "metadata": {},
     "output_type": "execute_result"
    }
   ],
   "source": [
    "# statistics\n",
    "tmdb.describe()"
   ]
  },
  {
   "cell_type": "markdown",
   "metadata": {},
   "source": [
    "Statistics observations:\n",
    "* Budget: there are some movies with zero budgets. Check that out\n",
    "* Popularity: mean is 9, so there are some outliers (max = 287.25)\n",
    "* Runtime: max runtime is long (but not unreasonable)\n",
    "* Revenue: min of 1 is odd\n",
    "* Month: ranges from 1 to 12 as expected\n",
    "* Year: Max is 2070 which is in the future. Odd"
   ]
  },
  {
   "cell_type": "code",
   "execution_count": 10,
   "metadata": {},
   "outputs": [
    {
     "name": "stderr",
     "output_type": "stream",
     "text": [
      "<ipython-input-10-0b3e692af066>:11: SettingWithCopyWarning: \n",
      "A value is trying to be set on a copy of a slice from a DataFrame.\n",
      "Try using .loc[row_indexer,col_indexer] = value instead\n",
      "\n",
      "See the caveats in the documentation: https://pandas.pydata.org/pandas-docs/stable/user_guide/indexing.html#returning-a-view-versus-a-copy\n",
      "  tmdb['year'] = tmdb['year'].apply(convert_year)\n"
     ]
    },
    {
     "data": {
      "text/plain": [
       "2021      1\n",
       "2017     33\n",
       "2016    114\n",
       "2015    108\n",
       "2014    110\n",
       "       ... \n",
       "1928      1\n",
       "1927      1\n",
       "1926      1\n",
       "1925      1\n",
       "1924      1\n",
       "Name: year, Length: 90, dtype: int64"
      ]
     },
     "execution_count": 10,
     "metadata": {},
     "output_type": "execute_result"
    }
   ],
   "source": [
    "# datetime error: So it seems that anything with the %y year below 69 will be attributed a century of 2000, and 69 upwards get 1900\n",
    "# convert these\n",
    "\n",
    "# function to convert year\n",
    "def convert_year(year):\n",
    "    if year > 2021:\n",
    "        return year-100\n",
    "    else:\n",
    "        return year\n",
    "\n",
    "tmdb['year'] = tmdb['year'].apply(convert_year)\n",
    "tmdb['year'].value_counts().sort_index(ascending=False)"
   ]
  },
  {
   "cell_type": "markdown",
   "metadata": {},
   "source": [
    "### Budget"
   ]
  },
  {
   "cell_type": "code",
   "execution_count": 11,
   "metadata": {},
   "outputs": [],
   "source": [
    "# # replace the rows with budget of zero, with the mean of the other budgets\n",
    "# # decided this because even movies with zero budget had a revenue\n",
    "# # and anyway there were 811 of them, so we didn't want to drop these rows\n",
    "\n",
    "# mean_budget = tmdb[tmdb['budget']>0]['budget'].mean()\n",
    "\n",
    "# # Blair Witch project budget was $60,000. so this seems like a reasonable minimum movie budget\n",
    "# # replace lower values with the mean of the others\n",
    "\n",
    "# def replace_budget(value):\n",
    "#     if value < 60_000:\n",
    "#         return mean_budget\n",
    "#     else:\n",
    "#         return value\n",
    "    \n",
    "# tmdb['budget'] = tmdb['budget'].apply(replace_budget)\n",
    "# # tmdb.loc[tmdb['budget']==0]['budget'] = tmdb[tmdb['budget']>0]['budget'].mean()"
   ]
  },
  {
   "cell_type": "code",
   "execution_count": 12,
   "metadata": {},
   "outputs": [
    {
     "data": {
      "text/plain": [
       "380000000      1\n",
       "300000000      1\n",
       "280000000      1\n",
       "270000000      1\n",
       "260000000      2\n",
       "            ... \n",
       "5              1\n",
       "4              1\n",
       "2              1\n",
       "1              3\n",
       "0            615\n",
       "Name: budget, Length: 368, dtype: int64"
      ]
     },
     "execution_count": 12,
     "metadata": {},
     "output_type": "execute_result"
    }
   ],
   "source": [
    "tmdb['budget'].value_counts().sort_index(ascending=False)"
   ]
  },
  {
   "cell_type": "code",
   "execution_count": 13,
   "metadata": {},
   "outputs": [
    {
     "data": {
      "text/html": [
       "<div>\n",
       "<style scoped>\n",
       "    .dataframe tbody tr th:only-of-type {\n",
       "        vertical-align: middle;\n",
       "    }\n",
       "\n",
       "    .dataframe tbody tr th {\n",
       "        vertical-align: top;\n",
       "    }\n",
       "\n",
       "    .dataframe thead th {\n",
       "        text-align: right;\n",
       "    }\n",
       "</style>\n",
       "<table border=\"1\" class=\"dataframe\">\n",
       "  <thead>\n",
       "    <tr style=\"text-align: right;\">\n",
       "      <th></th>\n",
       "      <th>budget</th>\n",
       "      <th>popularity</th>\n",
       "      <th>runtime</th>\n",
       "      <th>revenue</th>\n",
       "      <th>month</th>\n",
       "      <th>year</th>\n",
       "    </tr>\n",
       "  </thead>\n",
       "  <tbody>\n",
       "    <tr>\n",
       "      <th>count</th>\n",
       "      <td>2.609000e+03</td>\n",
       "      <td>2609.000000</td>\n",
       "      <td>2609.000000</td>\n",
       "      <td>2.609000e+03</td>\n",
       "      <td>2609.000000</td>\n",
       "      <td>2609.000000</td>\n",
       "    </tr>\n",
       "    <tr>\n",
       "      <th>mean</th>\n",
       "      <td>2.483175e+07</td>\n",
       "      <td>9.072135</td>\n",
       "      <td>108.769644</td>\n",
       "      <td>7.367050e+07</td>\n",
       "      <td>6.817555</td>\n",
       "      <td>1999.266769</td>\n",
       "    </tr>\n",
       "    <tr>\n",
       "      <th>std</th>\n",
       "      <td>3.822689e+07</td>\n",
       "      <td>11.344896</td>\n",
       "      <td>21.497669</td>\n",
       "      <td>1.422334e+08</td>\n",
       "      <td>3.406122</td>\n",
       "      <td>15.598568</td>\n",
       "    </tr>\n",
       "    <tr>\n",
       "      <th>min</th>\n",
       "      <td>0.000000e+00</td>\n",
       "      <td>0.000578</td>\n",
       "      <td>0.000000</td>\n",
       "      <td>1.000000e+00</td>\n",
       "      <td>1.000000</td>\n",
       "      <td>1924.000000</td>\n",
       "    </tr>\n",
       "    <tr>\n",
       "      <th>25%</th>\n",
       "      <td>1.510000e+05</td>\n",
       "      <td>5.184013</td>\n",
       "      <td>95.000000</td>\n",
       "      <td>3.956913e+06</td>\n",
       "      <td>4.000000</td>\n",
       "      <td>1992.000000</td>\n",
       "    </tr>\n",
       "    <tr>\n",
       "      <th>50%</th>\n",
       "      <td>1.028452e+07</td>\n",
       "      <td>7.903956</td>\n",
       "      <td>105.000000</td>\n",
       "      <td>2.110775e+07</td>\n",
       "      <td>7.000000</td>\n",
       "      <td>2003.000000</td>\n",
       "    </tr>\n",
       "    <tr>\n",
       "      <th>75%</th>\n",
       "      <td>3.200000e+07</td>\n",
       "      <td>11.239012</td>\n",
       "      <td>119.000000</td>\n",
       "      <td>8.093623e+07</td>\n",
       "      <td>10.000000</td>\n",
       "      <td>2011.000000</td>\n",
       "    </tr>\n",
       "    <tr>\n",
       "      <th>max</th>\n",
       "      <td>3.800000e+08</td>\n",
       "      <td>287.253654</td>\n",
       "      <td>338.000000</td>\n",
       "      <td>1.519558e+09</td>\n",
       "      <td>12.000000</td>\n",
       "      <td>2021.000000</td>\n",
       "    </tr>\n",
       "  </tbody>\n",
       "</table>\n",
       "</div>"
      ],
      "text/plain": [
       "             budget   popularity      runtime       revenue        month  \\\n",
       "count  2.609000e+03  2609.000000  2609.000000  2.609000e+03  2609.000000   \n",
       "mean   2.483175e+07     9.072135   108.769644  7.367050e+07     6.817555   \n",
       "std    3.822689e+07    11.344896    21.497669  1.422334e+08     3.406122   \n",
       "min    0.000000e+00     0.000578     0.000000  1.000000e+00     1.000000   \n",
       "25%    1.510000e+05     5.184013    95.000000  3.956913e+06     4.000000   \n",
       "50%    1.028452e+07     7.903956   105.000000  2.110775e+07     7.000000   \n",
       "75%    3.200000e+07    11.239012   119.000000  8.093623e+07    10.000000   \n",
       "max    3.800000e+08   287.253654   338.000000  1.519558e+09    12.000000   \n",
       "\n",
       "              year  \n",
       "count  2609.000000  \n",
       "mean   1999.266769  \n",
       "std      15.598568  \n",
       "min    1924.000000  \n",
       "25%    1992.000000  \n",
       "50%    2003.000000  \n",
       "75%    2011.000000  \n",
       "max    2021.000000  "
      ]
     },
     "execution_count": 13,
     "metadata": {},
     "output_type": "execute_result"
    }
   ],
   "source": [
    "# check stats again\n",
    "tmdb.describe()"
   ]
  },
  {
   "cell_type": "markdown",
   "metadata": {},
   "source": [
    "### Popularity"
   ]
  },
  {
   "cell_type": "code",
   "execution_count": 14,
   "metadata": {},
   "outputs": [
    {
     "data": {
      "image/png": "[encoded data removed]",
      "text/plain": [
       "<Figure size 432x288 with 1 Axes>"
      ]
     },
     "metadata": {
      "needs_background": "light"
     },
     "output_type": "display_data"
    }
   ],
   "source": [
    "plt.boxplot(tmdb['popularity'])\n",
    "plt.title('Boxplot of popularity')\n",
    "plt.ylabel('Popularity')\n",
    "plt.show()"
   ]
  },
  {
   "cell_type": "markdown",
   "metadata": {},
   "source": [
    "Some movies are just wildly popular."
   ]
  },
  {
   "cell_type": "code",
   "execution_count": 15,
   "metadata": {},
   "outputs": [
    {
     "data": {
      "image/png": "[encoded data removed]",
      "text/plain": [
       "<Figure size 432x288 with 1 Axes>"
      ]
     },
     "metadata": {
      "needs_background": "light"
     },
     "output_type": "display_data"
    }
   ],
   "source": [
    "# zoom\n",
    "plt.scatter(tmdb['revenue'],tmdb['popularity'])\n",
    "plt.title('Popularity vs Revenue')\n",
    "plt.xlabel('Revenue')\n",
    "plt.ylabel('Popularity')\n",
    "# plt.ylim([-10, 100])\n",
    "plt.show()"
   ]
  },
  {
   "cell_type": "markdown",
   "metadata": {},
   "source": [
    "Maybe remove items above popularity=100 and revenue=1.2B?"
   ]
  },
  {
   "cell_type": "code",
   "execution_count": 16,
   "metadata": {},
   "outputs": [
    {
     "data": {
      "text/html": [
       "<div>\n",
       "<style scoped>\n",
       "    .dataframe tbody tr th:only-of-type {\n",
       "        vertical-align: middle;\n",
       "    }\n",
       "\n",
       "    .dataframe tbody tr th {\n",
       "        vertical-align: top;\n",
       "    }\n",
       "\n",
       "    .dataframe thead th {\n",
       "        text-align: right;\n",
       "    }\n",
       "</style>\n",
       "<table border=\"1\" class=\"dataframe\">\n",
       "  <thead>\n",
       "    <tr style=\"text-align: right;\">\n",
       "      <th></th>\n",
       "      <th>budget</th>\n",
       "      <th>popularity</th>\n",
       "      <th>runtime</th>\n",
       "      <th>revenue</th>\n",
       "      <th>month</th>\n",
       "      <th>year</th>\n",
       "    </tr>\n",
       "  </thead>\n",
       "  <tbody>\n",
       "    <tr>\n",
       "      <th>count</th>\n",
       "      <td>2.602000e+03</td>\n",
       "      <td>2602.000000</td>\n",
       "      <td>2602.000000</td>\n",
       "      <td>2.602000e+03</td>\n",
       "      <td>2602.000000</td>\n",
       "      <td>2602.000000</td>\n",
       "    </tr>\n",
       "    <tr>\n",
       "      <th>mean</th>\n",
       "      <td>2.457188e+07</td>\n",
       "      <td>8.592080</td>\n",
       "      <td>108.707148</td>\n",
       "      <td>7.199409e+07</td>\n",
       "      <td>6.820907</td>\n",
       "      <td>1999.224058</td>\n",
       "    </tr>\n",
       "    <tr>\n",
       "      <th>std</th>\n",
       "      <td>3.780608e+07</td>\n",
       "      <td>6.000705</td>\n",
       "      <td>21.478375</td>\n",
       "      <td>1.374616e+08</td>\n",
       "      <td>3.407510</td>\n",
       "      <td>15.596932</td>\n",
       "    </tr>\n",
       "    <tr>\n",
       "      <th>min</th>\n",
       "      <td>0.000000e+00</td>\n",
       "      <td>0.000578</td>\n",
       "      <td>0.000000</td>\n",
       "      <td>1.000000e+00</td>\n",
       "      <td>1.000000</td>\n",
       "      <td>1924.000000</td>\n",
       "    </tr>\n",
       "    <tr>\n",
       "      <th>25%</th>\n",
       "      <td>1.380038e+05</td>\n",
       "      <td>5.162012</td>\n",
       "      <td>95.000000</td>\n",
       "      <td>3.917041e+06</td>\n",
       "      <td>4.000000</td>\n",
       "      <td>1992.000000</td>\n",
       "    </tr>\n",
       "    <tr>\n",
       "      <th>50%</th>\n",
       "      <td>1.000000e+07</td>\n",
       "      <td>7.885318</td>\n",
       "      <td>105.000000</td>\n",
       "      <td>2.102752e+07</td>\n",
       "      <td>7.000000</td>\n",
       "      <td>2003.000000</td>\n",
       "    </tr>\n",
       "    <tr>\n",
       "      <th>75%</th>\n",
       "      <td>3.100000e+07</td>\n",
       "      <td>11.214562</td>\n",
       "      <td>119.000000</td>\n",
       "      <td>7.969166e+07</td>\n",
       "      <td>10.000000</td>\n",
       "      <td>2011.000000</td>\n",
       "    </tr>\n",
       "    <tr>\n",
       "      <th>max</th>\n",
       "      <td>3.800000e+08</td>\n",
       "      <td>89.887648</td>\n",
       "      <td>338.000000</td>\n",
       "      <td>1.519558e+09</td>\n",
       "      <td>12.000000</td>\n",
       "      <td>2021.000000</td>\n",
       "    </tr>\n",
       "  </tbody>\n",
       "</table>\n",
       "</div>"
      ],
      "text/plain": [
       "             budget   popularity      runtime       revenue        month  \\\n",
       "count  2.602000e+03  2602.000000  2602.000000  2.602000e+03  2602.000000   \n",
       "mean   2.457188e+07     8.592080   108.707148  7.199409e+07     6.820907   \n",
       "std    3.780608e+07     6.000705    21.478375  1.374616e+08     3.407510   \n",
       "min    0.000000e+00     0.000578     0.000000  1.000000e+00     1.000000   \n",
       "25%    1.380038e+05     5.162012    95.000000  3.917041e+06     4.000000   \n",
       "50%    1.000000e+07     7.885318   105.000000  2.102752e+07     7.000000   \n",
       "75%    3.100000e+07    11.214562   119.000000  7.969166e+07    10.000000   \n",
       "max    3.800000e+08    89.887648   338.000000  1.519558e+09    12.000000   \n",
       "\n",
       "              year  \n",
       "count  2602.000000  \n",
       "mean   1999.224058  \n",
       "std      15.596932  \n",
       "min    1924.000000  \n",
       "25%    1992.000000  \n",
       "50%    2003.000000  \n",
       "75%    2011.000000  \n",
       "max    2021.000000  "
      ]
     },
     "execution_count": 16,
     "metadata": {},
     "output_type": "execute_result"
    }
   ],
   "source": [
    "tmdb = tmdb[tmdb['popularity']<100]\n",
    "tmdb.describe()"
   ]
  },
  {
   "cell_type": "code",
   "execution_count": 17,
   "metadata": {},
   "outputs": [
    {
     "data": {
      "text/plain": [
       "(2602, 9)"
      ]
     },
     "execution_count": 17,
     "metadata": {},
     "output_type": "execute_result"
    }
   ],
   "source": [
    "tmdb.shape"
   ]
  },
  {
   "cell_type": "markdown",
   "metadata": {},
   "source": [
    "### Revenue"
   ]
  },
  {
   "cell_type": "code",
   "execution_count": 18,
   "metadata": {},
   "outputs": [
    {
     "data": {
      "image/png": "[encoded data removed]",
      "text/plain": [
       "<Figure size 432x288 with 1 Axes>"
      ]
     },
     "metadata": {
      "needs_background": "light"
     },
     "output_type": "display_data"
    }
   ],
   "source": [
    "# This is our target variable\n",
    "plt.boxplot(tmdb['revenue'])\n",
    "plt.title('Boxplot of revenue')\n",
    "plt.ylabel('Revenue')\n",
    "plt.show()"
   ]
  },
  {
   "cell_type": "code",
   "execution_count": 19,
   "metadata": {},
   "outputs": [
    {
     "data": {
      "image/png": "[encoded data removed]",
      "text/plain": [
       "<Figure size 432x288 with 1 Axes>"
      ]
     },
     "metadata": {
      "needs_background": "light"
     },
     "output_type": "display_data"
    }
   ],
   "source": [
    "# histogram of revenue\n",
    "plt.hist(tmdb['revenue'], bins=20)\n",
    "plt.title('Histogram of revenue')\n",
    "plt.ylabel('Frequency')\n",
    "plt.show()"
   ]
  },
  {
   "cell_type": "code",
   "execution_count": 20,
   "metadata": {},
   "outputs": [
    {
     "data": {
      "image/png": "[encoded data removed]",
      "text/plain": [
       "<Figure size 432x288 with 1 Axes>"
      ]
     },
     "metadata": {
      "needs_background": "light"
     },
     "output_type": "display_data"
    }
   ],
   "source": [
    "# target distribution is skewed. Try taking a log\n",
    "plt.hist(np.log(tmdb['revenue']), bins=20)\n",
    "plt.title('Histogram of log(revenue)')\n",
    "plt.ylabel('Frequency')\n",
    "plt.show()"
   ]
  },
  {
   "cell_type": "code",
   "execution_count": 21,
   "metadata": {},
   "outputs": [],
   "source": [
    "tmdb['log_revenue'] = np.log(tmdb['revenue'])"
   ]
  },
  {
   "cell_type": "markdown",
   "metadata": {},
   "source": [
    "### Correlation"
   ]
  },
  {
   "cell_type": "code",
   "execution_count": 22,
   "metadata": {},
   "outputs": [
    {
     "data": {
      "image/png": "[encoded data removed]",
      "text/plain": [
       "<Figure size 1152x648 with 2 Axes>"
      ]
     },
     "metadata": {
      "needs_background": "light"
     },
     "output_type": "display_data"
    }
   ],
   "source": [
    "plt.figure(figsize=(16,9))\n",
    "corr=tmdb.corr()\n",
    "\n",
    "# Set up mask to be \"True\" in the upper triangle.\n",
    "mask = np.zeros_like(corr)\n",
    "mask[np.triu_indices_from(mask)] = True\n",
    "\n",
    "# Plot our correlation heatmap, while masking the upper triangle to be white.\n",
    "g=sns.heatmap(corr,annot=True,cmap='viridis',vmin=-1,vmax=1,mask=mask)\n",
    "plt.title('Correlation of different numerical features')\n",
    "plt.show()"
   ]
  },
  {
   "cell_type": "markdown",
   "metadata": {},
   "source": [
    "Budget correlates strongly with revenue, followed by popularity. Surprisingly, revenue does not correlate with month (summer blockbusters??)."
   ]
  },
  {
   "cell_type": "markdown",
   "metadata": {},
   "source": [
    "# Modeling"
   ]
  },
  {
   "cell_type": "code",
   "execution_count": 23,
   "metadata": {},
   "outputs": [],
   "source": [
    "model_features = ['budget','original_language','popularity','runtime','month','year']\n",
    "# model_features = ['budget','popularity','runtime','year']\n",
    "X = tmdb[model_features]\n",
    "X = pd.get_dummies(data=X,columns=['original_language'], drop_first=True)\n",
    "y = tmdb['revenue'] # target"
   ]
  },
  {
   "cell_type": "code",
   "execution_count": 24,
   "metadata": {},
   "outputs": [],
   "source": [
    "X_train, X_test, y_train, y_test = train_test_split(X, y, random_state=42)"
   ]
  },
  {
   "cell_type": "markdown",
   "metadata": {},
   "source": [
    "## Linear Regression"
   ]
  },
  {
   "cell_type": "code",
   "execution_count": 25,
   "metadata": {},
   "outputs": [
    {
     "data": {
      "text/plain": [
       "(0.5782376669133036, 0.07336414826817789)"
      ]
     },
     "execution_count": 25,
     "metadata": {},
     "output_type": "execute_result"
    }
   ],
   "source": [
    "# instantiate\n",
    "lr = LinearRegression()\n",
    "cross_val_score(estimator=lr, X=X_train, y=y_train).mean(), cross_val_score(estimator=lr, X=X_train, y=y_train).std()"
   ]
  },
  {
   "cell_type": "code",
   "execution_count": 26,
   "metadata": {},
   "outputs": [
    {
     "data": {
      "text/plain": [
       "LinearRegression()"
      ]
     },
     "execution_count": 26,
     "metadata": {},
     "output_type": "execute_result"
    }
   ],
   "source": [
    "lr.fit(X_train, y_train)"
   ]
  },
  {
   "cell_type": "code",
   "execution_count": 27,
   "metadata": {},
   "outputs": [
    {
     "data": {
      "text/plain": [
       "0.6124900833507625"
      ]
     },
     "execution_count": 27,
     "metadata": {},
     "output_type": "execute_result"
    }
   ],
   "source": [
    "lr.score(X_train, y_train)"
   ]
  },
  {
   "cell_type": "code",
   "execution_count": 28,
   "metadata": {},
   "outputs": [
    {
     "data": {
      "text/plain": [
       "0.5016884752695583"
      ]
     },
     "execution_count": 28,
     "metadata": {},
     "output_type": "execute_result"
    }
   ],
   "source": [
    "lr.score(X_test, y_test)"
   ]
  },
  {
   "cell_type": "markdown",
   "metadata": {},
   "source": [
    "This model is overfit. And anyway not that good. It has an R^2 of 0.53."
   ]
  },
  {
   "cell_type": "code",
   "execution_count": 29,
   "metadata": {},
   "outputs": [],
   "source": [
    "y_preds = lr.predict(X_test)"
   ]
  },
  {
   "cell_type": "code",
   "execution_count": 30,
   "metadata": {},
   "outputs": [],
   "source": [
    "resids = y_test - y_preds"
   ]
  },
  {
   "cell_type": "code",
   "execution_count": 31,
   "metadata": {},
   "outputs": [
    {
     "data": {
      "image/png": "[encoded data removed]",
      "text/plain": [
       "<Figure size 432x288 with 1 Axes>"
      ]
     },
     "metadata": {
      "needs_background": "light"
     },
     "output_type": "display_data"
    }
   ],
   "source": [
    "plt.scatter(y_test,resids)\n",
    "plt.title('Residual')\n",
    "plt.xlabel('y_test ($)')\n",
    "plt.ylabel('Residual ($)')\n",
    "plt.show()"
   ]
  },
  {
   "cell_type": "markdown",
   "metadata": {},
   "source": [
    "The residual distribution has a pattern to it, which means our linear regression model is not great."
   ]
  },
  {
   "cell_type": "code",
   "execution_count": 32,
   "metadata": {},
   "outputs": [
    {
     "name": "stdout",
     "output_type": "stream",
     "text": [
      "78811596.3398929\n"
     ]
    }
   ],
   "source": [
    "# root mean squared error (RMSE)\n",
    "RMSE = metrics.mean_squared_error(y_true=y_test, y_pred=y_preds, squared=False) \n",
    "print(RMSE)"
   ]
  },
  {
   "cell_type": "code",
   "execution_count": 33,
   "metadata": {},
   "outputs": [
    {
     "name": "stdout",
     "output_type": "stream",
     "text": [
      "111935927.95849217\n"
     ]
    }
   ],
   "source": [
    "# baseline model (average of revenue)\n",
    "avg_rev = np.full((len(y_test),1), tmdb['revenue'].mean())\n",
    "RMSE_bsl = metrics.mean_squared_error(y_true=y_test, y_pred=avg_rev, squared=False) \n",
    "print(RMSE_bsl)"
   ]
  },
  {
   "cell_type": "markdown",
   "metadata": {},
   "source": [
    "Our Linear Regression model is not great. It is overfit, with an R^2 of 0.5. The RMSE is \\\\$78.8M. This RMSE is better than the baseline model using average revenue (\\\\$112M)."
   ]
  },
  {
   "cell_type": "code",
   "execution_count": 34,
   "metadata": {},
   "outputs": [
    {
     "data": {
      "text/html": [
       "<div>\n",
       "<style scoped>\n",
       "    .dataframe tbody tr th:only-of-type {\n",
       "        vertical-align: middle;\n",
       "    }\n",
       "\n",
       "    .dataframe tbody tr th {\n",
       "        vertical-align: top;\n",
       "    }\n",
       "\n",
       "    .dataframe thead th {\n",
       "        text-align: right;\n",
       "    }\n",
       "</style>\n",
       "<table border=\"1\" class=\"dataframe\">\n",
       "  <thead>\n",
       "    <tr style=\"text-align: right;\">\n",
       "      <th></th>\n",
       "      <th>Coefficients</th>\n",
       "    </tr>\n",
       "  </thead>\n",
       "  <tbody>\n",
       "    <tr>\n",
       "      <th>budget</th>\n",
       "      <td>2.464165e+00</td>\n",
       "    </tr>\n",
       "    <tr>\n",
       "      <th>popularity</th>\n",
       "      <td>6.311533e+06</td>\n",
       "    </tr>\n",
       "    <tr>\n",
       "      <th>runtime</th>\n",
       "      <td>1.955840e+04</td>\n",
       "    </tr>\n",
       "    <tr>\n",
       "      <th>month</th>\n",
       "      <td>-5.857123e+05</td>\n",
       "    </tr>\n",
       "    <tr>\n",
       "      <th>year</th>\n",
       "      <td>-4.638959e+05</td>\n",
       "    </tr>\n",
       "  </tbody>\n",
       "</table>\n",
       "</div>"
      ],
      "text/plain": [
       "            Coefficients\n",
       "budget      2.464165e+00\n",
       "popularity  6.311533e+06\n",
       "runtime     1.955840e+04\n",
       "month      -5.857123e+05\n",
       "year       -4.638959e+05"
      ]
     },
     "execution_count": 34,
     "metadata": {},
     "output_type": "execute_result"
    }
   ],
   "source": [
    "# coeff\n",
    "pd.DataFrame(lr.coef_, index=X.columns, columns=['Coefficients']).head()\n",
    "# lr.coef_"
   ]
  },
  {
   "cell_type": "markdown",
   "metadata": {},
   "source": [
    "For each \\\\$1 increase in budget, the revenue would increase by \\\\$2.46, all else remaining equal."
   ]
  },
  {
   "cell_type": "markdown",
   "metadata": {},
   "source": [
    "## Random Forest"
   ]
  },
  {
   "cell_type": "code",
   "execution_count": 35,
   "metadata": {},
   "outputs": [
    {
     "name": "stdout",
     "output_type": "stream",
     "text": [
      "Fitting 5 folds for each of 12 candidates, totalling 60 fits\n"
     ]
    },
    {
     "name": "stderr",
     "output_type": "stream",
     "text": [
      "[Parallel(n_jobs=4)]: Using backend LokyBackend with 4 concurrent workers.\n",
      "[Parallel(n_jobs=4)]: Done  42 tasks      | elapsed:   14.4s\n",
      "[Parallel(n_jobs=4)]: Done  60 out of  60 | elapsed:   31.1s finished\n"
     ]
    }
   ],
   "source": [
    "rfr = RandomForestRegressor()\n",
    "\n",
    "# define dictionary of hyperparameters\n",
    "rfr_params = {\n",
    "    'n_estimators': [10, 100, 200, 500],\n",
    "    'max_depth': [5, 10, 20],\n",
    "    'random_state': [42]\n",
    "}\n",
    "\n",
    "# instantiate GridSearchCV object\n",
    "rfr_gs = GridSearchCV(estimator = rfr,\n",
    "                     param_grid = rfr_params,\n",
    "                     cv=5,\n",
    "                     verbose=1,\n",
    "                     n_jobs=4)\n",
    "\n",
    "# Fit the GridSearchCV object to the data.\n",
    "rfr_gs.fit(X_train, y_train);"
   ]
  },
  {
   "cell_type": "code",
   "execution_count": 36,
   "metadata": {},
   "outputs": [
    {
     "data": {
      "text/plain": [
       "0.6169816757567347"
      ]
     },
     "execution_count": 36,
     "metadata": {},
     "output_type": "execute_result"
    }
   ],
   "source": [
    "# RandomForestRegressor best score\n",
    "rfr_gs.best_score_"
   ]
  },
  {
   "cell_type": "code",
   "execution_count": 37,
   "metadata": {},
   "outputs": [
    {
     "data": {
      "text/plain": [
       "{'max_depth': 10, 'n_estimators': 100, 'random_state': 42}"
      ]
     },
     "execution_count": 37,
     "metadata": {},
     "output_type": "execute_result"
    }
   ],
   "source": [
    "# best parameters\n",
    "rfr_gs.best_params_"
   ]
  },
  {
   "cell_type": "code",
   "execution_count": 38,
   "metadata": {},
   "outputs": [
    {
     "name": "stdout",
     "output_type": "stream",
     "text": [
      "RandomForestRegressor train score: 0.9094386563295812\n",
      "RandomForestRegressor test score: 0.5583589512644367\n"
     ]
    }
   ],
   "source": [
    "# Evaluate the best model on the test data.\n",
    "\n",
    "print(f\"RandomForestRegressor train score: {rfr_gs.score(X_train, y_train)}\")\n",
    "print(f\"RandomForestRegressor test score: {rfr_gs.score(X_test, y_test)}\")"
   ]
  },
  {
   "cell_type": "markdown",
   "metadata": {},
   "source": [
    "Model is grossly overfit."
   ]
  },
  {
   "cell_type": "code",
   "execution_count": 39,
   "metadata": {},
   "outputs": [
    {
     "name": "stdout",
     "output_type": "stream",
     "text": [
      "RMSE RandomForest (train): 43612556.143770866\n",
      "RMSE RandomForest (test): 74194954.83734567\n"
     ]
    }
   ],
   "source": [
    "print(f\"RMSE RandomForest (train): {metrics.mean_squared_error(y_true = y_train, y_pred=rfr_gs.predict(X_train), squared=False)}\")\n",
    "print(f\"RMSE RandomForest (test): {metrics.mean_squared_error(y_true = y_test, y_pred=rfr_gs.predict(X_test), squared=False)}\")"
   ]
  },
  {
   "cell_type": "markdown",
   "metadata": {},
   "source": [
    "RandomForest does a slightly better job than LinearRegression, with a testing RMSE of \\\\$74.2M."
   ]
  },
  {
   "cell_type": "code",
   "execution_count": 40,
   "metadata": {},
   "outputs": [
    {
     "data": {
      "text/html": [
       "<div>\n",
       "<style scoped>\n",
       "    .dataframe tbody tr th:only-of-type {\n",
       "        vertical-align: middle;\n",
       "    }\n",
       "\n",
       "    .dataframe tbody tr th {\n",
       "        vertical-align: top;\n",
       "    }\n",
       "\n",
       "    .dataframe thead th {\n",
       "        text-align: right;\n",
       "    }\n",
       "</style>\n",
       "<table border=\"1\" class=\"dataframe\">\n",
       "  <thead>\n",
       "    <tr style=\"text-align: right;\">\n",
       "      <th></th>\n",
       "      <th>index</th>\n",
       "      <th>coeffs</th>\n",
       "    </tr>\n",
       "  </thead>\n",
       "  <tbody>\n",
       "    <tr>\n",
       "      <th>0</th>\n",
       "      <td>budget</td>\n",
       "      <td>0.636037</td>\n",
       "    </tr>\n",
       "    <tr>\n",
       "      <th>1</th>\n",
       "      <td>popularity</td>\n",
       "      <td>0.180605</td>\n",
       "    </tr>\n",
       "    <tr>\n",
       "      <th>2</th>\n",
       "      <td>runtime</td>\n",
       "      <td>0.0821243</td>\n",
       "    </tr>\n",
       "    <tr>\n",
       "      <th>3</th>\n",
       "      <td>month</td>\n",
       "      <td>0.0511749</td>\n",
       "    </tr>\n",
       "    <tr>\n",
       "      <th>4</th>\n",
       "      <td>year</td>\n",
       "      <td>0.0462876</td>\n",
       "    </tr>\n",
       "  </tbody>\n",
       "</table>\n",
       "</div>"
      ],
      "text/plain": [
       "        index     coeffs\n",
       "0      budget   0.636037\n",
       "1  popularity   0.180605\n",
       "2     runtime  0.0821243\n",
       "3       month  0.0511749\n",
       "4        year  0.0462876"
      ]
     },
     "execution_count": 40,
     "metadata": {},
     "output_type": "execute_result"
    }
   ],
   "source": [
    "coeffs = pd.DataFrame(data=[X.columns, rfr_gs.best_estimator_.feature_importances_]).T\n",
    "coeffs.columns = ['index','coeffs']\n",
    "coeffs.sort_values(by='coeffs', ascending=False).head()"
   ]
  },
  {
   "cell_type": "markdown",
   "metadata": {},
   "source": [
    "It looks like budget is most important, followed by popularity."
   ]
  },
  {
   "cell_type": "code",
   "execution_count": null,
   "metadata": {},
   "outputs": [],
   "source": []
  },
  {
   "cell_type": "markdown",
   "metadata": {},
   "source": [
    "## 1.0 Convert Strings in Columns to Dictionary/List"
   ]
  },
  {
   "cell_type": "code",
   "execution_count": 142,
   "metadata": {},
   "outputs": [],
   "source": [
    "import warnings\n",
    "import ast"
   ]
  },
  {
   "cell_type": "code",
   "execution_count": 143,
   "metadata": {},
   "outputs": [],
   "source": [
    "# Convert Strings in Columns to Dictionary and Lists\n",
    "tmdb_orig['Keywords'] = tmdb_orig['Keywords'].apply(lambda x: ast.literal_eval(x))\n",
    "tmdb_orig['genres'] = tmdb_orig['genres'].apply(lambda x: ast.literal_eval(x))\n",
    "tmdb_orig['production_companies'] = tmdb_orig['production_companies'].apply(lambda x: ast.literal_eval(x))\n",
    "tmdb_orig['production_countries'] = tmdb_orig['production_countries'].apply(lambda x: ast.literal_eval(x))\n",
    "tmdb_orig['cast'] = tmdb_orig['cast'].apply(lambda x: ast.literal_eval(x))\n",
    "tmdb_orig['crew'] = tmdb_orig['crew'].apply(lambda x: ast.literal_eval(x))\n",
    "\n",
    "# https://stackoverflow.com/questions/39169718/convert-string-to-dict-then-access-keyvalues-how-to-access-data-in-a-class"
   ]
  },
  {
   "cell_type": "code",
   "execution_count": 144,
   "metadata": {},
   "outputs": [],
   "source": [
    "# train_df_nonan = tmdb_orig[tmdb_orig['popularity']<100]\n",
    "train_df_nonan = tmdb_orig"
   ]
  },
  {
   "cell_type": "code",
   "execution_count": 194,
   "metadata": {},
   "outputs": [
    {
     "data": {
      "text/plain": [
       "(2609, 21)"
      ]
     },
     "execution_count": 194,
     "metadata": {},
     "output_type": "execute_result"
    }
   ],
   "source": [
    "tmdb_orig.shape"
   ]
  },
  {
   "cell_type": "markdown",
   "metadata": {},
   "source": [
    "### 1.1 Extraction of Data In Keyword Column"
   ]
  },
  {
   "cell_type": "code",
   "execution_count": 146,
   "metadata": {},
   "outputs": [
    {
     "data": {
      "text/plain": [
       "[{'id': 1416, 'name': 'jazz'},\n",
       " {'id': 1523, 'name': 'obsession'},\n",
       " {'id': 1640, 'name': 'conservatory'},\n",
       " {'id': 2176, 'name': 'music teacher'},\n",
       " {'id': 14512, 'name': 'new york city'},\n",
       " {'id': 14819, 'name': 'violence'},\n",
       " {'id': 33896, 'name': 'montage'},\n",
       " {'id': 156823, 'name': 'drummer'},\n",
       " {'id': 170418, 'name': 'public humiliation'},\n",
       " {'id': 176095, 'name': 'jazz band'},\n",
       " {'id': 206298, 'name': 'young adult'},\n",
       " {'id': 207739, 'name': 'music school'}]"
      ]
     },
     "execution_count": 146,
     "metadata": {},
     "output_type": "execute_result"
    }
   ],
   "source": [
    "train_df_nonan['Keywords'][2] # Inspect the structure of the Dictionary/List"
   ]
  },
  {
   "cell_type": "code",
   "execution_count": 147,
   "metadata": {},
   "outputs": [],
   "source": [
    "keyword_empty = [] # Final List\n",
    "\n",
    "for i in range(0,len(train_df_nonan)): # Loop Through all the Rows\n",
    "    \n",
    "    keywordempty = [] # Temp list to collate data we loop thru\n",
    "    \n",
    "    try:\n",
    "        for j in range(0,len(train_df_nonan['Keywords'][i])): # Loop thru all elements in Lists\n",
    "            keywordempty.append(str(train_df_nonan['Keywords'][i][j]['name']).replace(\" \", \"_\")) # Append key element to list and replace ' ' with '_'   \n",
    "    except:\n",
    "        continue\n",
    "    \n",
    "    keyword_empty.append(keywordempty) # Cast sub-lists to final list"
   ]
  },
  {
   "cell_type": "code",
   "execution_count": 148,
   "metadata": {},
   "outputs": [
    {
     "data": {
      "text/plain": [
       "['jazz',\n",
       " 'obsession',\n",
       " 'conservatory',\n",
       " 'music_teacher',\n",
       " 'new_york_city',\n",
       " 'violence',\n",
       " 'montage',\n",
       " 'drummer',\n",
       " 'public_humiliation',\n",
       " 'jazz_band',\n",
       " 'young_adult',\n",
       " 'music_school']"
      ]
     },
     "execution_count": 148,
     "metadata": {},
     "output_type": "execute_result"
    }
   ],
   "source": [
    "keyword_empty[2] # Inspect to ensure change above occured as expected"
   ]
  },
  {
   "cell_type": "code",
   "execution_count": 149,
   "metadata": {},
   "outputs": [],
   "source": [
    "warnings.filterwarnings('ignore') # Supress Warnings\n",
    "train_df_nonan['keywords_loop'] = keyword_empty"
   ]
  },
  {
   "cell_type": "code",
   "execution_count": 150,
   "metadata": {},
   "outputs": [],
   "source": [
    "warnings.filterwarnings('ignore') # Supress Warnings\n",
    "train_df_nonan['keywords_loop'] = train_df_nonan['keywords_loop'].apply(lambda x: \" \".join(x))"
   ]
  },
  {
   "cell_type": "code",
   "execution_count": 151,
   "metadata": {},
   "outputs": [
    {
     "data": {
      "text/plain": [
       "0      time_travel sequel hot_tub duringcreditsstinger\n",
       "1             coronation duty marriage falling_in_love\n",
       "2    jazz obsession conservatory music_teacher new_...\n",
       "3              island pirate_gang puppet treasure_hunt\n",
       "4                             mockumentary folk_singer\n",
       "Name: keywords_loop, dtype: object"
      ]
     },
     "execution_count": 151,
     "metadata": {},
     "output_type": "execute_result"
    }
   ],
   "source": [
    "train_df_nonan['keywords_loop'].head() # Final Inspection"
   ]
  },
  {
   "cell_type": "markdown",
   "metadata": {},
   "source": [
    "### 1.2 Extraction of Data from Genres Column"
   ]
  },
  {
   "cell_type": "code",
   "execution_count": 152,
   "metadata": {},
   "outputs": [
    {
     "data": {
      "text/plain": [
       "[{'id': 28, 'name': 'Action'},\n",
       " {'id': 35, 'name': 'Comedy'},\n",
       " {'id': 10402, 'name': 'Music'},\n",
       " {'id': 10751, 'name': 'Family'},\n",
       " {'id': 12, 'name': 'Adventure'}]"
      ]
     },
     "execution_count": 152,
     "metadata": {},
     "output_type": "execute_result"
    }
   ],
   "source": [
    "train_df_nonan['genres'][3] # Inspect and Understand the structure of the Dictionary/List"
   ]
  },
  {
   "cell_type": "code",
   "execution_count": 153,
   "metadata": {},
   "outputs": [],
   "source": [
    "genre_empty = [] # Final List\n",
    "\n",
    "for i in range(0,len(train_df_nonan)): # Loop Through all the Rows\n",
    "    \n",
    "    genreempty = [] # Temp list to collate data we loop thru\n",
    "    \n",
    "    try:\n",
    "        for j in range(0,len(train_df_nonan['genres'][i])): # Loop thru all elements in Lists\n",
    "            genreempty.append(str(train_df_nonan['genres'][i][j]['name']).replace(\" \", \"_\"))    \n",
    "    except:\n",
    "        continue\n",
    "    \n",
    "    genre_empty.append(genreempty) # Cast sub-lists to final list"
   ]
  },
  {
   "cell_type": "code",
   "execution_count": 154,
   "metadata": {},
   "outputs": [
    {
     "data": {
      "text/plain": [
       "['Action', 'Comedy', 'Music', 'Family', 'Adventure']"
      ]
     },
     "execution_count": 154,
     "metadata": {},
     "output_type": "execute_result"
    }
   ],
   "source": [
    "genre_empty[3] # Verify that change above executed"
   ]
  },
  {
   "cell_type": "code",
   "execution_count": 155,
   "metadata": {},
   "outputs": [],
   "source": [
    "warnings.filterwarnings('ignore') # Supress Warnings\n",
    "train_df_nonan['genre_loop'] = genre_empty"
   ]
  },
  {
   "cell_type": "code",
   "execution_count": 156,
   "metadata": {},
   "outputs": [],
   "source": [
    "warnings.filterwarnings('ignore') # Supress Warnings\n",
    "train_df_nonan['genre_loop'] = train_df_nonan['genre_loop'].apply(lambda x: \" \".join(x))"
   ]
  },
  {
   "cell_type": "code",
   "execution_count": 157,
   "metadata": {},
   "outputs": [
    {
     "data": {
      "text/plain": [
       "0                                  Comedy\n",
       "1             Comedy Drama Family Romance\n",
       "2                                   Drama\n",
       "3    Action Comedy Music Family Adventure\n",
       "4                            Comedy Music\n",
       "Name: genre_loop, dtype: object"
      ]
     },
     "execution_count": 157,
     "metadata": {},
     "output_type": "execute_result"
    }
   ],
   "source": [
    "train_df_nonan['genre_loop'].head() # Verify that change above executed"
   ]
  },
  {
   "cell_type": "markdown",
   "metadata": {},
   "source": [
    "### 1.3 Extraction of Data from Production Company Column"
   ]
  },
  {
   "cell_type": "code",
   "execution_count": 158,
   "metadata": {},
   "outputs": [
    {
     "data": {
      "text/plain": [
       "[{'name': 'Paramount Pictures', 'id': 4},\n",
       " {'name': 'United Artists', 'id': 60},\n",
       " {'name': 'Metro-Goldwyn-Mayer (MGM)', 'id': 8411}]"
      ]
     },
     "execution_count": 158,
     "metadata": {},
     "output_type": "execute_result"
    }
   ],
   "source": [
    "train_df_nonan['production_companies'][0]"
   ]
  },
  {
   "cell_type": "code",
   "execution_count": 159,
   "metadata": {},
   "outputs": [],
   "source": [
    "prod_comp_empty = [] # Final List\n",
    "\n",
    "for i in range(0,len(train_df_nonan)): # Loop Through all the Rows\n",
    "    \n",
    "    prodcompempty = []  # Temp list to collate data we loop thru\n",
    "    \n",
    "    try:\n",
    "        for j in range(0,len(train_df_nonan['production_companies'][i])): # Loop thru all elements in Lists\n",
    "            prodcompempty.append(str(train_df_nonan['production_companies'][i][j]['name']).replace(\" \", \"_\"))    \n",
    "    except:\n",
    "        continue\n",
    "    \n",
    "    prod_comp_empty.append(prodcompempty) # Cast sub-lists to final list"
   ]
  },
  {
   "cell_type": "code",
   "execution_count": 160,
   "metadata": {},
   "outputs": [
    {
     "data": {
      "text/plain": [
       "['Paramount_Pictures', 'United_Artists', 'Metro-Goldwyn-Mayer_(MGM)']"
      ]
     },
     "execution_count": 160,
     "metadata": {},
     "output_type": "execute_result"
    }
   ],
   "source": [
    "prod_comp_empty[0] # Verify that change above executed"
   ]
  },
  {
   "cell_type": "code",
   "execution_count": 161,
   "metadata": {},
   "outputs": [],
   "source": [
    "warnings.filterwarnings('ignore') # Supress Warnings\n",
    "train_df_nonan['comp_loop'] = prod_comp_empty"
   ]
  },
  {
   "cell_type": "code",
   "execution_count": 162,
   "metadata": {},
   "outputs": [],
   "source": [
    "warnings.filterwarnings('ignore') # Supress Warnings\n",
    "train_df_nonan['comp_loop'] = train_df_nonan['comp_loop'].apply(lambda x: \" \".join(x))"
   ]
  },
  {
   "cell_type": "code",
   "execution_count": 163,
   "metadata": {},
   "outputs": [
    {
     "data": {
      "text/plain": [
       "0    Paramount_Pictures United_Artists Metro-Goldwy...\n",
       "1                                 Walt_Disney_Pictures\n",
       "2    Bold_Films Blumhouse_Productions Right_of_Way_...\n",
       "3    Walt_Disney_Pictures Jim_Henson_Productions Ji...\n",
       "4                            Castle_Rock_Entertainment\n",
       "Name: comp_loop, dtype: object"
      ]
     },
     "execution_count": 163,
     "metadata": {},
     "output_type": "execute_result"
    }
   ],
   "source": [
    "train_df_nonan['comp_loop'].head() # Verify that change above executed"
   ]
  },
  {
   "cell_type": "markdown",
   "metadata": {},
   "source": [
    "### 1.4 Extraction of Data from Production Country Column"
   ]
  },
  {
   "cell_type": "code",
   "execution_count": 164,
   "metadata": {},
   "outputs": [
    {
     "data": {
      "text/plain": [
       "[{'iso_3166_1': 'US', 'name': 'United States of America'}]"
      ]
     },
     "execution_count": 164,
     "metadata": {},
     "output_type": "execute_result"
    }
   ],
   "source": [
    "train_df_nonan['production_countries'][8] # Inspect Dictionary Structure"
   ]
  },
  {
   "cell_type": "code",
   "execution_count": 165,
   "metadata": {},
   "outputs": [],
   "source": [
    "prod_co_empty = [] # Final List\n",
    "\n",
    "for i in range(0,len(train_df_nonan)): # Loop Through all the Rows\n",
    "    \n",
    "    prodcoempty = []  # Temp list to collate data we loop thru\n",
    "    \n",
    "    try:\n",
    "        for j in range(0,len(train_df_nonan['production_countries'][i])):\n",
    "            prodcoempty.append(str(train_df_nonan['production_countries'][i][j]['name']).replace(\" \", \"_\"))    \n",
    "    except:\n",
    "        continue\n",
    "    \n",
    "    prod_co_empty.append(prodcoempty)\n",
    "        \n",
    "# https://stackoverflow.com/questions/39169718/convert-string-to-dict-then-access-keyvalues-how-to-access-data-in-a-class"
   ]
  },
  {
   "cell_type": "code",
   "execution_count": 166,
   "metadata": {},
   "outputs": [
    {
     "data": {
      "text/plain": [
       "['United_States_of_America']"
      ]
     },
     "execution_count": 166,
     "metadata": {},
     "output_type": "execute_result"
    }
   ],
   "source": [
    "prod_co_empty[8] # Verify that change above executed"
   ]
  },
  {
   "cell_type": "code",
   "execution_count": 167,
   "metadata": {},
   "outputs": [],
   "source": [
    "warnings.filterwarnings('ignore') # Supress Warnings\n",
    "train_df_nonan['country_loop'] = prod_co_empty"
   ]
  },
  {
   "cell_type": "code",
   "execution_count": 168,
   "metadata": {},
   "outputs": [],
   "source": [
    "warnings.filterwarnings('ignore') # Supress Warnings\n",
    "train_df_nonan['country_loop'] = train_df_nonan['country_loop'].apply(lambda x: \" \".join(x))"
   ]
  },
  {
   "cell_type": "code",
   "execution_count": 169,
   "metadata": {},
   "outputs": [
    {
     "data": {
      "text/plain": [
       "0    United_States_of_America\n",
       "1    United_States_of_America\n",
       "2    United_States_of_America\n",
       "3    United_States_of_America\n",
       "4    United_States_of_America\n",
       "Name: country_loop, dtype: object"
      ]
     },
     "execution_count": 169,
     "metadata": {},
     "output_type": "execute_result"
    }
   ],
   "source": [
    "train_df_nonan['country_loop'].head() # Verify that change above executed"
   ]
  },
  {
   "cell_type": "markdown",
   "metadata": {},
   "source": [
    "### 1.5 Extraction of Data from Cast Column"
   ]
  },
  {
   "cell_type": "code",
   "execution_count": 170,
   "metadata": {},
   "outputs": [
    {
     "data": {
      "text/plain": [
       "[{'cast_id': 4,\n",
       "  'character': 'Lou',\n",
       "  'credit_id': '52fe4ee7c3a36847f82afae7',\n",
       "  'gender': 2,\n",
       "  'id': 52997,\n",
       "  'name': 'Rob Corddry',\n",
       "  'order': 0,\n",
       "  'profile_path': '/k2zJL0V1nEZuFT08xUdOd3ucfXz.jpg'},\n",
       " {'cast_id': 5,\n",
       "  'character': 'Nick',\n",
       "  'credit_id': '52fe4ee7c3a36847f82afaeb',\n",
       "  'gender': 2,\n",
       "  'id': 64342,\n",
       "  'name': 'Craig Robinson',\n",
       "  'order': 1,\n",
       "  'profile_path': '/tVaRMkJXOEVhYxtnnFuhqW0Rjzz.jpg'},\n",
       " {'cast_id': 6,\n",
       "  'character': 'Jacob',\n",
       "  'credit_id': '52fe4ee7c3a36847f82afaef',\n",
       "  'gender': 2,\n",
       "  'id': 54729,\n",
       "  'name': 'Clark Duke',\n",
       "  'order': 2,\n",
       "  'profile_path': '/oNzK0umwm5Wn0wyEbOy6TVJCSBn.jpg'},\n",
       " {'cast_id': 7,\n",
       "  'character': 'Adam Jr.',\n",
       "  'credit_id': '52fe4ee7c3a36847f82afaf3',\n",
       "  'gender': 2,\n",
       "  'id': 36801,\n",
       "  'name': 'Adam Scott',\n",
       "  'order': 3,\n",
       "  'profile_path': '/5gb65xz8bzd42yjMAl4zwo4cvKw.jpg'},\n",
       " {'cast_id': 8,\n",
       "  'character': 'Hot Tub Repairman',\n",
       "  'credit_id': '52fe4ee7c3a36847f82afaf7',\n",
       "  'gender': 2,\n",
       "  'id': 54812,\n",
       "  'name': 'Chevy Chase',\n",
       "  'order': 4,\n",
       "  'profile_path': '/svjpyYtPwtjvRxX9IZnOmOkhDOt.jpg'},\n",
       " {'cast_id': 9,\n",
       "  'character': 'Jill',\n",
       "  'credit_id': '52fe4ee7c3a36847f82afafb',\n",
       "  'gender': 1,\n",
       "  'id': 94098,\n",
       "  'name': 'Gillian Jacobs',\n",
       "  'order': 5,\n",
       "  'profile_path': '/rBnhe5vhNPnhRUdtYahBWx90fJM.jpg'},\n",
       " {'cast_id': 10,\n",
       "  'character': 'Sophie',\n",
       "  'credit_id': '52fe4ee7c3a36847f82afaff',\n",
       "  'gender': 1,\n",
       "  'id': 1159009,\n",
       "  'name': 'Bianca Haase',\n",
       "  'order': 6,\n",
       "  'profile_path': '/4x3nbtD8q8phAJPmoGWXPvz0iM.jpg'},\n",
       " {'cast_id': 11,\n",
       "  'character': 'Kelly',\n",
       "  'credit_id': '5524ec51c3a3687df3000dbb',\n",
       "  'gender': 1,\n",
       "  'id': 86624,\n",
       "  'name': 'Collette Wolfe',\n",
       "  'order': 7,\n",
       "  'profile_path': '/aSD4h5379b2eEw3bLou9ByLimmq.jpg'},\n",
       " {'cast_id': 13,\n",
       "  'character': 'Brad',\n",
       "  'credit_id': '5524ec8ec3a3687ded000d72',\n",
       "  'gender': 2,\n",
       "  'id': 466505,\n",
       "  'name': 'Kumail Nanjiani',\n",
       "  'order': 9,\n",
       "  'profile_path': '/x4nAztHY72SVciRfxEsbhIVTsIu.jpg'},\n",
       " {'cast_id': 14,\n",
       "  'character': 'Courtney',\n",
       "  'credit_id': '5524ec9bc3a3687df8000d13',\n",
       "  'gender': 1,\n",
       "  'id': 70776,\n",
       "  'name': 'Kellee Stewart',\n",
       "  'order': 10,\n",
       "  'profile_path': '/w3xmsEPmJc1Cf0dQ4aIn8YmlHbk.jpg'},\n",
       " {'cast_id': 15,\n",
       "  'character': 'Terry',\n",
       "  'credit_id': '5524eca892514171cb008237',\n",
       "  'gender': 2,\n",
       "  'id': 347335,\n",
       "  'name': 'Josh Heald',\n",
       "  'order': 11,\n",
       "  'profile_path': '/pwXJIenrDMrG7t3zNfLvr8w1RGU.jpg'},\n",
       " {'cast_id': 16,\n",
       "  'character': 'Susan',\n",
       "  'credit_id': '5524ecb7925141720c001116',\n",
       "  'gender': 0,\n",
       "  'id': 1451392,\n",
       "  'name': 'Gretchen Koerner',\n",
       "  'order': 12,\n",
       "  'profile_path': '/muULPexCTJGyJba4yKzxronpD50.jpg'},\n",
       " {'cast_id': 17,\n",
       "  'character': 'Herself',\n",
       "  'credit_id': '5524ecc3c3a3687ded000d74',\n",
       "  'gender': 1,\n",
       "  'id': 98879,\n",
       "  'name': 'Lisa Loeb',\n",
       "  'order': 13,\n",
       "  'profile_path': '/bGqg58ca0bZR38z9HliUMmeNGE.jpg'},\n",
       " {'cast_id': 18,\n",
       "  'character': 'Herself',\n",
       "  'credit_id': '5524ecd3c3a3687e11000ed3',\n",
       "  'gender': 1,\n",
       "  'id': 1394648,\n",
       "  'name': 'Jessica Williams',\n",
       "  'order': 14,\n",
       "  'profile_path': '/A4syKjkcYB92wLEhH0c0hC3BCpz.jpg'},\n",
       " {'cast_id': 19,\n",
       "  'character': 'Himself',\n",
       "  'credit_id': '5524ece6925141718d001009',\n",
       "  'gender': 0,\n",
       "  'id': 1451393,\n",
       "  'name': 'Bruce Buffer',\n",
       "  'order': 15,\n",
       "  'profile_path': None},\n",
       " {'cast_id': 20,\n",
       "  'character': 'Shot Girl',\n",
       "  'credit_id': '5524ecf5c3a3687e08000dc2',\n",
       "  'gender': 0,\n",
       "  'id': 1451394,\n",
       "  'name': 'Mariana Paola Vicente',\n",
       "  'order': 16,\n",
       "  'profile_path': '/ckPllza8624UHWGHCbLShkLxCD1.jpg'},\n",
       " {'cast_id': 33,\n",
       "  'character': 'Choozy Doozy Host',\n",
       "  'credit_id': '555844da9251412afe0013a9',\n",
       "  'gender': 2,\n",
       "  'id': 2224,\n",
       "  'name': 'Christian Slater',\n",
       "  'order': 17,\n",
       "  'profile_path': '/3ElLWjnvchMS6Q4cIQOK8QNAoMG.jpg'},\n",
       " {'cast_id': 35,\n",
       "  'character': 'Gary Winkle',\n",
       "  'credit_id': '55872027c3a3683853005074',\n",
       "  'gender': 0,\n",
       "  'id': 185805,\n",
       "  'name': 'Jason Jones',\n",
       "  'order': 18,\n",
       "  'profile_path': '/aIoCw6vo8AGMdsQRAI5g2t0yJT3.jpg'},\n",
       " {'cast_id': 36,\n",
       "  'character': 'Bridesmaid',\n",
       "  'credit_id': '55efe971c3a368090c00cd1b',\n",
       "  'gender': 0,\n",
       "  'id': 1507448,\n",
       "  'name': 'Olivia Jordan',\n",
       "  'order': 19,\n",
       "  'profile_path': '/szMukAEiIDeasel0lvyaeyKuych.jpg'},\n",
       " {'cast_id': 37,\n",
       "  'character': 'Christine',\n",
       "  'credit_id': '55efe980c3a36871bf008176',\n",
       "  'gender': 1,\n",
       "  'id': 1334091,\n",
       "  'name': 'Christine Bently',\n",
       "  'order': 20,\n",
       "  'profile_path': '/oUZltnGa55OXE52hfyPTfCshuNy.jpg'},\n",
       " {'cast_id': 38,\n",
       "  'character': 'Excited Girl',\n",
       "  'credit_id': '55efe98e9251413e3201d316',\n",
       "  'gender': 0,\n",
       "  'id': 557803,\n",
       "  'name': 'Stacey Asaro',\n",
       "  'order': 21,\n",
       "  'profile_path': '/qTPdlr1dXf3kNdyHuDsgtGC0HCC.jpg'},\n",
       " {'cast_id': 64,\n",
       "  'character': 'Adam (uncredited)',\n",
       "  'credit_id': '58f2135ac3a3682e95008b91',\n",
       "  'gender': 2,\n",
       "  'id': 3036,\n",
       "  'name': 'John Cusack',\n",
       "  'order': 22,\n",
       "  'profile_path': '/uKydQYuZ9TnCzvbQLtj6j98vWAT.jpg'},\n",
       " {'cast_id': 65,\n",
       "  'character': 'J-Bird',\n",
       "  'credit_id': '59ac0240c3a3682cc802c399',\n",
       "  'gender': 2,\n",
       "  'id': 59256,\n",
       "  'name': 'Adam Herschman',\n",
       "  'order': 23,\n",
       "  'profile_path': '/wZMwiuX1DslF6hDS50z9OTN6z1X.jpg'},\n",
       " {'cast_id': 66,\n",
       "  'character': 'Bridesmaid',\n",
       "  'credit_id': '59ac02cd925141079d02b1b4',\n",
       "  'gender': 1,\n",
       "  'id': 129714,\n",
       "  'name': 'Kisha Sierra',\n",
       "  'order': 24,\n",
       "  'profile_path': None}]"
      ]
     },
     "execution_count": 170,
     "metadata": {},
     "output_type": "execute_result"
    }
   ],
   "source": [
    "train_df_nonan['cast'][0]  # Inspect Dictionary Structure"
   ]
  },
  {
   "cell_type": "code",
   "execution_count": 171,
   "metadata": {},
   "outputs": [],
   "source": [
    "cast_empty = [] \n",
    "\n",
    "for i in range(0,len(train_df_nonan)):\n",
    "    \n",
    "    castempty = []\n",
    "    \n",
    "    try:\n",
    "        for j in range(0,len(train_df_nonan['cast'][i])):\n",
    "            if j <= 3:\n",
    "                castempty.append(str(train_df_nonan['cast'][i][j]['name']).replace(\" \", \"_\"))\n",
    "            else:\n",
    "                continue\n",
    "    except:\n",
    "        continue\n",
    "    \n",
    "    cast_empty.append(castempty) # Cast sub-lists to final list"
   ]
  },
  {
   "cell_type": "code",
   "execution_count": 172,
   "metadata": {},
   "outputs": [
    {
     "data": {
      "text/plain": [
       "['John_Travolta', 'Uma_Thurman', 'Vince_Vaughn', 'Cedric_the_Entertainer']"
      ]
     },
     "execution_count": 172,
     "metadata": {},
     "output_type": "execute_result"
    }
   ],
   "source": [
    "cast_empty[8] # Verify that change above executed"
   ]
  },
  {
   "cell_type": "code",
   "execution_count": 173,
   "metadata": {},
   "outputs": [],
   "source": [
    "warnings.filterwarnings('ignore') # Supress Warnings\n",
    "train_df_nonan['cast'] = cast_empty"
   ]
  },
  {
   "cell_type": "code",
   "execution_count": 174,
   "metadata": {},
   "outputs": [],
   "source": [
    "warnings.filterwarnings('ignore') # Supress Warnings\n",
    "train_df_nonan['cast'] = train_df_nonan['cast'].apply(lambda x: \" \".join(x))"
   ]
  },
  {
   "cell_type": "code",
   "execution_count": 175,
   "metadata": {},
   "outputs": [
    {
     "data": {
      "text/plain": [
       "0     Rob_Corddry Craig_Robinson Clark_Duke Adam_Scott\n",
       "1    Anne_Hathaway Julie_Andrews H√©ctor_Elizondo J...\n",
       "2    Miles_Teller J.K._Simmons Melissa_Benoist Aust...\n",
       "3    Tim_Curry Kevin_Bishop Jennifer_Saunders Billy...\n",
       "4    Bob_Balaban Christopher_Guest John_Michael_Hig...\n",
       "Name: cast, dtype: object"
      ]
     },
     "execution_count": 175,
     "metadata": {},
     "output_type": "execute_result"
    }
   ],
   "source": [
    "train_df_nonan['cast'].head() # Verify that change above executed"
   ]
  },
  {
   "cell_type": "markdown",
   "metadata": {},
   "source": [
    "### 1.6 Extraction of Data from Crew Column"
   ]
  },
  {
   "cell_type": "code",
   "execution_count": 176,
   "metadata": {},
   "outputs": [
    {
     "data": {
      "text/plain": [
       "[{'credit_id': '52fe43fe9251416c7502563d',\n",
       "  'department': 'Directing',\n",
       "  'gender': 2,\n",
       "  'id': 1201,\n",
       "  'job': 'Director',\n",
       "  'name': 'Garry Marshall',\n",
       "  'profile_path': '/kx77E8p5rnEmKxIhFT0qWCEMEik.jpg'},\n",
       " {'credit_id': '52fe43fe9251416c75025667',\n",
       "  'department': 'Camera',\n",
       "  'gender': 2,\n",
       "  'id': 1214,\n",
       "  'job': 'Director of Photography',\n",
       "  'name': 'Charles Minsky',\n",
       "  'profile_path': None},\n",
       " {'credit_id': '52fe43fe9251416c75025661',\n",
       "  'department': 'Sound',\n",
       "  'gender': 2,\n",
       "  'id': 4500,\n",
       "  'job': 'Original Music Composer',\n",
       "  'name': 'John Debney',\n",
       "  'profile_path': '/hTrlvZlDXQk49nfc2BM9sjKfJv.jpg'},\n",
       " {'credit_id': '52fe43fe9251416c7502564f',\n",
       "  'department': 'Production',\n",
       "  'gender': 1,\n",
       "  'id': 8851,\n",
       "  'job': 'Producer',\n",
       "  'name': 'Whitney Houston',\n",
       "  'profile_path': '/69ouDnXnmklYPr4sMJXWKYz81AL.jpg'},\n",
       " {'credit_id': '52fe43fe9251416c7502566d',\n",
       "  'department': 'Editing',\n",
       "  'gender': 0,\n",
       "  'id': 12970,\n",
       "  'job': 'Editor',\n",
       "  'name': 'Bruce Green',\n",
       "  'profile_path': '/yplxWPVgwK1b33AjvbhM9mWX2Aw.jpg'},\n",
       " {'credit_id': '52fe43fe9251416c75025655',\n",
       "  'department': 'Production',\n",
       "  'gender': 2,\n",
       "  'id': 38415,\n",
       "  'job': 'Producer',\n",
       "  'name': 'Mario Iscovich',\n",
       "  'profile_path': None},\n",
       " {'credit_id': '52fe43fe9251416c7502565b',\n",
       "  'department': 'Production',\n",
       "  'gender': 1,\n",
       "  'id': 38416,\n",
       "  'job': 'Executive Producer',\n",
       "  'name': 'Ellen H. Schwartz',\n",
       "  'profile_path': '/6WInjABr1sAYGXaa5qOvSrsHIqP.jpg'},\n",
       " {'credit_id': '52fe43fe9251416c75025649',\n",
       "  'department': 'Production',\n",
       "  'gender': 1,\n",
       "  'id': 59973,\n",
       "  'job': 'Producer',\n",
       "  'name': 'Debra Martin Chase',\n",
       "  'profile_path': None},\n",
       " {'credit_id': '52fe43fe9251416c75025643',\n",
       "  'department': 'Writing',\n",
       "  'gender': 1,\n",
       "  'id': 25539,\n",
       "  'job': 'Screenplay',\n",
       "  'name': 'Shonda Rhimes',\n",
       "  'profile_path': '/4c77e347InbTAlw9lGvORpZBHV6.jpg'}]"
      ]
     },
     "execution_count": 176,
     "metadata": {},
     "output_type": "execute_result"
    }
   ],
   "source": [
    "train_df_nonan['crew'][1]"
   ]
  },
  {
   "cell_type": "markdown",
   "metadata": {},
   "source": [
    "#### 1.6.1 Extraction of Data from Crew Column Just the Director"
   ]
  },
  {
   "cell_type": "code",
   "execution_count": 177,
   "metadata": {},
   "outputs": [],
   "source": [
    "crew_dir_empty = []\n",
    "\n",
    "for i in range(0,len(train_df_nonan)):\n",
    "    \n",
    "    crewempty = []\n",
    "    \n",
    "    try:\n",
    "        for j in range(0,len(train_df_nonan['crew'][i])):\n",
    "            if train_df_nonan['crew'][i][j]['job'] == 'Director':\n",
    "                crewempty.append(str(train_df_nonan['crew'][i][j]['name']).replace(\" \", \"_\"))\n",
    "            else:\n",
    "                continue\n",
    "    except:\n",
    "        continue\n",
    "    \n",
    "    crew_dir_empty.append(crewempty)"
   ]
  },
  {
   "cell_type": "code",
   "execution_count": 178,
   "metadata": {},
   "outputs": [],
   "source": [
    "warnings.filterwarnings('ignore') # Supress Warnings\n",
    "train_df_nonan['crew_dir'] =  crew_dir_empty"
   ]
  },
  {
   "cell_type": "code",
   "execution_count": 179,
   "metadata": {},
   "outputs": [],
   "source": [
    "warnings.filterwarnings('ignore') # Supress Warnings\n",
    "train_df_nonan['crew_dir'] = train_df_nonan['crew_dir'].apply(lambda x: \" \".join(x))"
   ]
  },
  {
   "cell_type": "code",
   "execution_count": 180,
   "metadata": {},
   "outputs": [
    {
     "data": {
      "text/plain": [
       "0           Steve_Pink\n",
       "1       Garry_Marshall\n",
       "2      Damien_Chazelle\n",
       "3         Brian_Henson\n",
       "4    Christopher_Guest\n",
       "Name: crew_dir, dtype: object"
      ]
     },
     "execution_count": 180,
     "metadata": {},
     "output_type": "execute_result"
    }
   ],
   "source": [
    "train_df_nonan['crew_dir'].head() # Verify that change above executed"
   ]
  },
  {
   "cell_type": "markdown",
   "metadata": {},
   "source": [
    "#### 1.6.2 Extraction of Data from Crew Column, Just the Director Of Photography"
   ]
  },
  {
   "cell_type": "code",
   "execution_count": 181,
   "metadata": {},
   "outputs": [],
   "source": [
    "crew_dirp_empty = []\n",
    "\n",
    "for i in range(0,len(train_df_nonan)):\n",
    "    \n",
    "    crewempty = []\n",
    "    \n",
    "    try:\n",
    "        for j in range(0,len(train_df_nonan['crew'][i])):\n",
    "            if train_df_nonan['crew'][i][j]['job'] == 'Director of Photography':\n",
    "                crewempty.append(str(train_df_nonan['crew'][i][j]['name']).replace(\" \", \"_\"))\n",
    "            else:\n",
    "                continue\n",
    "    except:\n",
    "        continue\n",
    "    \n",
    "    crew_dirp_empty.append(crewempty)"
   ]
  },
  {
   "cell_type": "code",
   "execution_count": 182,
   "metadata": {},
   "outputs": [
    {
     "data": {
      "text/plain": [
       "['Charles_Minsky']"
      ]
     },
     "execution_count": 182,
     "metadata": {},
     "output_type": "execute_result"
    }
   ],
   "source": [
    "crew_dirp_empty[1] # Verify that change above executed"
   ]
  },
  {
   "cell_type": "code",
   "execution_count": 183,
   "metadata": {},
   "outputs": [],
   "source": [
    "warnings.filterwarnings('ignore') # Supress Warnings\n",
    "train_df_nonan['crew_dir_photo']=crew_dirp_empty"
   ]
  },
  {
   "cell_type": "code",
   "execution_count": 184,
   "metadata": {},
   "outputs": [],
   "source": [
    "warnings.filterwarnings('ignore') # Supress Warnings\n",
    "train_df_nonan['crew_dir_photo'] = train_df_nonan['crew_dir_photo'].apply(lambda x: \" \".join(x))"
   ]
  },
  {
   "cell_type": "code",
   "execution_count": 185,
   "metadata": {},
   "outputs": [
    {
     "data": {
      "text/html": [
       "<div>\n",
       "<style scoped>\n",
       "    .dataframe tbody tr th:only-of-type {\n",
       "        vertical-align: middle;\n",
       "    }\n",
       "\n",
       "    .dataframe tbody tr th {\n",
       "        vertical-align: top;\n",
       "    }\n",
       "\n",
       "    .dataframe thead th {\n",
       "        text-align: right;\n",
       "    }\n",
       "</style>\n",
       "<table border=\"1\" class=\"dataframe\">\n",
       "  <thead>\n",
       "    <tr style=\"text-align: right;\">\n",
       "      <th></th>\n",
       "      <th>budget</th>\n",
       "      <th>genres</th>\n",
       "      <th>original_language</th>\n",
       "      <th>popularity</th>\n",
       "      <th>production_companies</th>\n",
       "      <th>production_countries</th>\n",
       "      <th>release_date</th>\n",
       "      <th>runtime</th>\n",
       "      <th>spoken_languages</th>\n",
       "      <th>title</th>\n",
       "      <th>Keywords</th>\n",
       "      <th>cast</th>\n",
       "      <th>crew</th>\n",
       "      <th>revenue</th>\n",
       "      <th>keywords_loop</th>\n",
       "      <th>genre_loop</th>\n",
       "      <th>comp_loop</th>\n",
       "      <th>country_loop</th>\n",
       "      <th>crew_dir</th>\n",
       "      <th>crew_dir_photo</th>\n",
       "    </tr>\n",
       "  </thead>\n",
       "  <tbody>\n",
       "    <tr>\n",
       "      <th>0</th>\n",
       "      <td>14000000</td>\n",
       "      <td>[{'id': 35, 'name': 'Comedy'}]</td>\n",
       "      <td>en</td>\n",
       "      <td>6.575393</td>\n",
       "      <td>[{'name': 'Paramount Pictures', 'id': 4}, {'na...</td>\n",
       "      <td>[{'iso_3166_1': 'US', 'name': 'United States o...</td>\n",
       "      <td>2/20/15</td>\n",
       "      <td>93.0</td>\n",
       "      <td>[{'iso_639_1': 'en', 'name': 'English'}]</td>\n",
       "      <td>Hot Tub Time Machine 2</td>\n",
       "      <td>[{'id': 4379, 'name': 'time travel'}, {'id': 9...</td>\n",
       "      <td>Rob_Corddry Craig_Robinson Clark_Duke Adam_Scott</td>\n",
       "      <td>[{'credit_id': '59ac067c92514107af02c8c8', 'de...</td>\n",
       "      <td>12314651</td>\n",
       "      <td>time_travel sequel hot_tub duringcreditsstinger</td>\n",
       "      <td>Comedy</td>\n",
       "      <td>Paramount_Pictures United_Artists Metro-Goldwy...</td>\n",
       "      <td>United_States_of_America</td>\n",
       "      <td>Steve_Pink</td>\n",
       "      <td>Declan_Quinn</td>\n",
       "    </tr>\n",
       "    <tr>\n",
       "      <th>1</th>\n",
       "      <td>40000000</td>\n",
       "      <td>[{'id': 35, 'name': 'Comedy'}, {'id': 18, 'nam...</td>\n",
       "      <td>en</td>\n",
       "      <td>8.248895</td>\n",
       "      <td>[{'name': 'Walt Disney Pictures', 'id': 2}]</td>\n",
       "      <td>[{'iso_3166_1': 'US', 'name': 'United States o...</td>\n",
       "      <td>8/6/04</td>\n",
       "      <td>113.0</td>\n",
       "      <td>[{'iso_639_1': 'en', 'name': 'English'}]</td>\n",
       "      <td>The Princess Diaries 2: Royal Engagement</td>\n",
       "      <td>[{'id': 2505, 'name': 'coronation'}, {'id': 42...</td>\n",
       "      <td>Anne_Hathaway Julie_Andrews H√©ctor_Elizondo J...</td>\n",
       "      <td>[{'credit_id': '52fe43fe9251416c7502563d', 'de...</td>\n",
       "      <td>95149435</td>\n",
       "      <td>coronation duty marriage falling_in_love</td>\n",
       "      <td>Comedy Drama Family Romance</td>\n",
       "      <td>Walt_Disney_Pictures</td>\n",
       "      <td>United_States_of_America</td>\n",
       "      <td>Garry_Marshall</td>\n",
       "      <td>Charles_Minsky</td>\n",
       "    </tr>\n",
       "    <tr>\n",
       "      <th>2</th>\n",
       "      <td>3300000</td>\n",
       "      <td>[{'id': 18, 'name': 'Drama'}]</td>\n",
       "      <td>en</td>\n",
       "      <td>64.299990</td>\n",
       "      <td>[{'name': 'Bold Films', 'id': 2266}, {'name': ...</td>\n",
       "      <td>[{'iso_3166_1': 'US', 'name': 'United States o...</td>\n",
       "      <td>10/10/14</td>\n",
       "      <td>105.0</td>\n",
       "      <td>[{'iso_639_1': 'en', 'name': 'English'}]</td>\n",
       "      <td>Whiplash</td>\n",
       "      <td>[{'id': 1416, 'name': 'jazz'}, {'id': 1523, 'n...</td>\n",
       "      <td>Miles_Teller J.K._Simmons Melissa_Benoist Aust...</td>\n",
       "      <td>[{'credit_id': '54d5356ec3a3683ba0000039', 'de...</td>\n",
       "      <td>13092000</td>\n",
       "      <td>jazz obsession conservatory music_teacher new_...</td>\n",
       "      <td>Drama</td>\n",
       "      <td>Bold_Films Blumhouse_Productions Right_of_Way_...</td>\n",
       "      <td>United_States_of_America</td>\n",
       "      <td>Damien_Chazelle</td>\n",
       "      <td>Sharone_Meir</td>\n",
       "    </tr>\n",
       "    <tr>\n",
       "      <th>3</th>\n",
       "      <td>0</td>\n",
       "      <td>[{'id': 28, 'name': 'Action'}, {'id': 35, 'nam...</td>\n",
       "      <td>en</td>\n",
       "      <td>6.902423</td>\n",
       "      <td>[{'name': 'Walt Disney Pictures', 'id': 2}, {'...</td>\n",
       "      <td>[{'iso_3166_1': 'US', 'name': 'United States o...</td>\n",
       "      <td>2/16/96</td>\n",
       "      <td>100.0</td>\n",
       "      <td>[{'iso_639_1': 'en', 'name': 'English'}]</td>\n",
       "      <td>Muppet Treasure Island</td>\n",
       "      <td>[{'id': 2041, 'name': 'island'}, {'id': 4418, ...</td>\n",
       "      <td>Tim_Curry Kevin_Bishop Jennifer_Saunders Billy...</td>\n",
       "      <td>[{'credit_id': '52fe43c89251416c7501deb3', 'de...</td>\n",
       "      <td>34327391</td>\n",
       "      <td>island pirate_gang puppet treasure_hunt</td>\n",
       "      <td>Action Comedy Music Family Adventure</td>\n",
       "      <td>Walt_Disney_Pictures Jim_Henson_Productions Ji...</td>\n",
       "      <td>United_States_of_America</td>\n",
       "      <td>Brian_Henson</td>\n",
       "      <td>John_Fenner</td>\n",
       "    </tr>\n",
       "    <tr>\n",
       "      <th>4</th>\n",
       "      <td>6000000</td>\n",
       "      <td>[{'id': 35, 'name': 'Comedy'}, {'id': 10402, '...</td>\n",
       "      <td>en</td>\n",
       "      <td>4.672036</td>\n",
       "      <td>[{'name': 'Castle Rock Entertainment', 'id': 97}]</td>\n",
       "      <td>[{'iso_3166_1': 'US', 'name': 'United States o...</td>\n",
       "      <td>4/16/03</td>\n",
       "      <td>91.0</td>\n",
       "      <td>[{'iso_639_1': 'en', 'name': 'English'}]</td>\n",
       "      <td>A Mighty Wind</td>\n",
       "      <td>[{'id': 11800, 'name': 'mockumentary'}, {'id':...</td>\n",
       "      <td>Bob_Balaban Christopher_Guest John_Michael_Hig...</td>\n",
       "      <td>[{'credit_id': '52fe45609251416c750545b3', 'de...</td>\n",
       "      <td>18750246</td>\n",
       "      <td>mockumentary folk_singer</td>\n",
       "      <td>Comedy Music</td>\n",
       "      <td>Castle_Rock_Entertainment</td>\n",
       "      <td>United_States_of_America</td>\n",
       "      <td>Christopher_Guest</td>\n",
       "      <td>Arlene_Nelson</td>\n",
       "    </tr>\n",
       "  </tbody>\n",
       "</table>\n",
       "</div>"
      ],
      "text/plain": [
       "     budget                                             genres  \\\n",
       "0  14000000                     [{'id': 35, 'name': 'Comedy'}]   \n",
       "1  40000000  [{'id': 35, 'name': 'Comedy'}, {'id': 18, 'nam...   \n",
       "2   3300000                      [{'id': 18, 'name': 'Drama'}]   \n",
       "3         0  [{'id': 28, 'name': 'Action'}, {'id': 35, 'nam...   \n",
       "4   6000000  [{'id': 35, 'name': 'Comedy'}, {'id': 10402, '...   \n",
       "\n",
       "  original_language  popularity  \\\n",
       "0                en    6.575393   \n",
       "1                en    8.248895   \n",
       "2                en   64.299990   \n",
       "3                en    6.902423   \n",
       "4                en    4.672036   \n",
       "\n",
       "                                production_companies  \\\n",
       "0  [{'name': 'Paramount Pictures', 'id': 4}, {'na...   \n",
       "1        [{'name': 'Walt Disney Pictures', 'id': 2}]   \n",
       "2  [{'name': 'Bold Films', 'id': 2266}, {'name': ...   \n",
       "3  [{'name': 'Walt Disney Pictures', 'id': 2}, {'...   \n",
       "4  [{'name': 'Castle Rock Entertainment', 'id': 97}]   \n",
       "\n",
       "                                production_countries release_date  runtime  \\\n",
       "0  [{'iso_3166_1': 'US', 'name': 'United States o...      2/20/15     93.0   \n",
       "1  [{'iso_3166_1': 'US', 'name': 'United States o...       8/6/04    113.0   \n",
       "2  [{'iso_3166_1': 'US', 'name': 'United States o...     10/10/14    105.0   \n",
       "3  [{'iso_3166_1': 'US', 'name': 'United States o...      2/16/96    100.0   \n",
       "4  [{'iso_3166_1': 'US', 'name': 'United States o...      4/16/03     91.0   \n",
       "\n",
       "                           spoken_languages  \\\n",
       "0  [{'iso_639_1': 'en', 'name': 'English'}]   \n",
       "1  [{'iso_639_1': 'en', 'name': 'English'}]   \n",
       "2  [{'iso_639_1': 'en', 'name': 'English'}]   \n",
       "3  [{'iso_639_1': 'en', 'name': 'English'}]   \n",
       "4  [{'iso_639_1': 'en', 'name': 'English'}]   \n",
       "\n",
       "                                      title  \\\n",
       "0                    Hot Tub Time Machine 2   \n",
       "1  The Princess Diaries 2: Royal Engagement   \n",
       "2                                  Whiplash   \n",
       "3                    Muppet Treasure Island   \n",
       "4                             A Mighty Wind   \n",
       "\n",
       "                                            Keywords  \\\n",
       "0  [{'id': 4379, 'name': 'time travel'}, {'id': 9...   \n",
       "1  [{'id': 2505, 'name': 'coronation'}, {'id': 42...   \n",
       "2  [{'id': 1416, 'name': 'jazz'}, {'id': 1523, 'n...   \n",
       "3  [{'id': 2041, 'name': 'island'}, {'id': 4418, ...   \n",
       "4  [{'id': 11800, 'name': 'mockumentary'}, {'id':...   \n",
       "\n",
       "                                                cast  \\\n",
       "0   Rob_Corddry Craig_Robinson Clark_Duke Adam_Scott   \n",
       "1  Anne_Hathaway Julie_Andrews H√©ctor_Elizondo J...   \n",
       "2  Miles_Teller J.K._Simmons Melissa_Benoist Aust...   \n",
       "3  Tim_Curry Kevin_Bishop Jennifer_Saunders Billy...   \n",
       "4  Bob_Balaban Christopher_Guest John_Michael_Hig...   \n",
       "\n",
       "                                                crew   revenue  \\\n",
       "0  [{'credit_id': '59ac067c92514107af02c8c8', 'de...  12314651   \n",
       "1  [{'credit_id': '52fe43fe9251416c7502563d', 'de...  95149435   \n",
       "2  [{'credit_id': '54d5356ec3a3683ba0000039', 'de...  13092000   \n",
       "3  [{'credit_id': '52fe43c89251416c7501deb3', 'de...  34327391   \n",
       "4  [{'credit_id': '52fe45609251416c750545b3', 'de...  18750246   \n",
       "\n",
       "                                       keywords_loop  \\\n",
       "0    time_travel sequel hot_tub duringcreditsstinger   \n",
       "1           coronation duty marriage falling_in_love   \n",
       "2  jazz obsession conservatory music_teacher new_...   \n",
       "3            island pirate_gang puppet treasure_hunt   \n",
       "4                           mockumentary folk_singer   \n",
       "\n",
       "                             genre_loop  \\\n",
       "0                                Comedy   \n",
       "1           Comedy Drama Family Romance   \n",
       "2                                 Drama   \n",
       "3  Action Comedy Music Family Adventure   \n",
       "4                          Comedy Music   \n",
       "\n",
       "                                           comp_loop  \\\n",
       "0  Paramount_Pictures United_Artists Metro-Goldwy...   \n",
       "1                               Walt_Disney_Pictures   \n",
       "2  Bold_Films Blumhouse_Productions Right_of_Way_...   \n",
       "3  Walt_Disney_Pictures Jim_Henson_Productions Ji...   \n",
       "4                          Castle_Rock_Entertainment   \n",
       "\n",
       "               country_loop           crew_dir  crew_dir_photo  \n",
       "0  United_States_of_America         Steve_Pink    Declan_Quinn  \n",
       "1  United_States_of_America     Garry_Marshall  Charles_Minsky  \n",
       "2  United_States_of_America    Damien_Chazelle    Sharone_Meir  \n",
       "3  United_States_of_America       Brian_Henson     John_Fenner  \n",
       "4  United_States_of_America  Christopher_Guest   Arlene_Nelson  "
      ]
     },
     "execution_count": 185,
     "metadata": {},
     "output_type": "execute_result"
    }
   ],
   "source": [
    "train_df_nonan.head() # Verify that change above executed"
   ]
  },
  {
   "cell_type": "markdown",
   "metadata": {},
   "source": [
    "## 2.0 Concat Final Text Columns"
   ]
  },
  {
   "cell_type": "code",
   "execution_count": 186,
   "metadata": {},
   "outputs": [],
   "source": [
    "train_df_nonan['text'] = train_df_nonan['country_loop'] + ' ' + train_df_nonan['keywords_loop'] + ' ' + train_df_nonan['genre_loop'] + ' ' +train_df_nonan['comp_loop']  + ' ' + train_df_nonan['crew_dir_photo']  + ' ' + train_df_nonan['crew_dir']  + ' ' + train_df_nonan['cast']"
   ]
  },
  {
   "cell_type": "code",
   "execution_count": 187,
   "metadata": {},
   "outputs": [],
   "source": [
    "final_df = train_df_nonan['text']"
   ]
  },
  {
   "cell_type": "code",
   "execution_count": 188,
   "metadata": {},
   "outputs": [
    {
     "data": {
      "text/plain": [
       "0    United_States_of_America time_travel sequel ho...\n",
       "1    United_States_of_America coronation duty marri...\n",
       "2    United_States_of_America jazz obsession conser...\n",
       "3    United_States_of_America island pirate_gang pu...\n",
       "4    United_States_of_America mockumentary folk_sin...\n",
       "Name: text, dtype: object"
      ]
     },
     "execution_count": 188,
     "metadata": {},
     "output_type": "execute_result"
    }
   ],
   "source": [
    "final_df.head()"
   ]
  },
  {
   "cell_type": "markdown",
   "metadata": {},
   "source": [
    "## Prep for Modeling with CountVect"
   ]
  },
  {
   "cell_type": "code",
   "execution_count": 189,
   "metadata": {},
   "outputs": [],
   "source": [
    "from sklearn.feature_extraction.text import CountVectorizer"
   ]
  },
  {
   "cell_type": "code",
   "execution_count": 190,
   "metadata": {},
   "outputs": [],
   "source": [
    "cv = CountVectorizer(min_df=2)\n",
    "final_df_cv = cv.fit_transform(final_df)"
   ]
  },
  {
   "cell_type": "code",
   "execution_count": 191,
   "metadata": {},
   "outputs": [
    {
     "data": {
      "text/html": [
       "<div>\n",
       "<style scoped>\n",
       "    .dataframe tbody tr th:only-of-type {\n",
       "        vertical-align: middle;\n",
       "    }\n",
       "\n",
       "    .dataframe tbody tr th {\n",
       "        vertical-align: top;\n",
       "    }\n",
       "\n",
       "    .dataframe thead th {\n",
       "        text-align: right;\n",
       "    }\n",
       "</style>\n",
       "<table border=\"1\" class=\"dataframe\">\n",
       "  <thead>\n",
       "    <tr style=\"text-align: right;\">\n",
       "      <th></th>\n",
       "      <th>10th_hole_productions</th>\n",
       "      <th>120db_films</th>\n",
       "      <th>1492_pictures</th>\n",
       "      <th>15th_century</th>\n",
       "      <th>17th_century</th>\n",
       "      <th>18th_century</th>\n",
       "      <th>1920s</th>\n",
       "      <th>1930s</th>\n",
       "      <th>1940s</th>\n",
       "      <th>1950s</th>\n",
       "      <th>...</th>\n",
       "      <th>æt_delhomme</th>\n",
       "      <th>æt_magimel</th>\n",
       "      <th>ñski</th>\n",
       "      <th>òverste_hylde</th>\n",
       "      <th>ópalo_films</th>\n",
       "      <th>ô_bucur</th>\n",
       "      <th>ökerman</th>\n",
       "      <th>österreichischer_rundfunk_</th>\n",
       "      <th>øm</th>\n",
       "      <th>ƒçek</th>\n",
       "    </tr>\n",
       "  </thead>\n",
       "  <tbody>\n",
       "    <tr>\n",
       "      <th>0</th>\n",
       "      <td>0</td>\n",
       "      <td>0</td>\n",
       "      <td>0</td>\n",
       "      <td>0</td>\n",
       "      <td>0</td>\n",
       "      <td>0</td>\n",
       "      <td>0</td>\n",
       "      <td>0</td>\n",
       "      <td>0</td>\n",
       "      <td>0</td>\n",
       "      <td>...</td>\n",
       "      <td>0</td>\n",
       "      <td>0</td>\n",
       "      <td>0</td>\n",
       "      <td>0</td>\n",
       "      <td>0</td>\n",
       "      <td>0</td>\n",
       "      <td>0</td>\n",
       "      <td>0</td>\n",
       "      <td>0</td>\n",
       "      <td>0</td>\n",
       "    </tr>\n",
       "    <tr>\n",
       "      <th>1</th>\n",
       "      <td>0</td>\n",
       "      <td>0</td>\n",
       "      <td>0</td>\n",
       "      <td>0</td>\n",
       "      <td>0</td>\n",
       "      <td>0</td>\n",
       "      <td>0</td>\n",
       "      <td>0</td>\n",
       "      <td>0</td>\n",
       "      <td>0</td>\n",
       "      <td>...</td>\n",
       "      <td>0</td>\n",
       "      <td>0</td>\n",
       "      <td>0</td>\n",
       "      <td>0</td>\n",
       "      <td>0</td>\n",
       "      <td>0</td>\n",
       "      <td>0</td>\n",
       "      <td>0</td>\n",
       "      <td>0</td>\n",
       "      <td>0</td>\n",
       "    </tr>\n",
       "    <tr>\n",
       "      <th>2</th>\n",
       "      <td>0</td>\n",
       "      <td>0</td>\n",
       "      <td>0</td>\n",
       "      <td>0</td>\n",
       "      <td>0</td>\n",
       "      <td>0</td>\n",
       "      <td>0</td>\n",
       "      <td>0</td>\n",
       "      <td>0</td>\n",
       "      <td>0</td>\n",
       "      <td>...</td>\n",
       "      <td>0</td>\n",
       "      <td>0</td>\n",
       "      <td>0</td>\n",
       "      <td>0</td>\n",
       "      <td>0</td>\n",
       "      <td>0</td>\n",
       "      <td>0</td>\n",
       "      <td>0</td>\n",
       "      <td>0</td>\n",
       "      <td>0</td>\n",
       "    </tr>\n",
       "    <tr>\n",
       "      <th>3</th>\n",
       "      <td>0</td>\n",
       "      <td>0</td>\n",
       "      <td>0</td>\n",
       "      <td>0</td>\n",
       "      <td>0</td>\n",
       "      <td>0</td>\n",
       "      <td>0</td>\n",
       "      <td>0</td>\n",
       "      <td>0</td>\n",
       "      <td>0</td>\n",
       "      <td>...</td>\n",
       "      <td>0</td>\n",
       "      <td>0</td>\n",
       "      <td>0</td>\n",
       "      <td>0</td>\n",
       "      <td>0</td>\n",
       "      <td>0</td>\n",
       "      <td>0</td>\n",
       "      <td>0</td>\n",
       "      <td>0</td>\n",
       "      <td>0</td>\n",
       "    </tr>\n",
       "    <tr>\n",
       "      <th>4</th>\n",
       "      <td>0</td>\n",
       "      <td>0</td>\n",
       "      <td>0</td>\n",
       "      <td>0</td>\n",
       "      <td>0</td>\n",
       "      <td>0</td>\n",
       "      <td>0</td>\n",
       "      <td>0</td>\n",
       "      <td>0</td>\n",
       "      <td>0</td>\n",
       "      <td>...</td>\n",
       "      <td>0</td>\n",
       "      <td>0</td>\n",
       "      <td>0</td>\n",
       "      <td>0</td>\n",
       "      <td>0</td>\n",
       "      <td>0</td>\n",
       "      <td>0</td>\n",
       "      <td>0</td>\n",
       "      <td>0</td>\n",
       "      <td>0</td>\n",
       "    </tr>\n",
       "  </tbody>\n",
       "</table>\n",
       "<p>5 rows × 7059 columns</p>\n",
       "</div>"
      ],
      "text/plain": [
       "   10th_hole_productions  120db_films  1492_pictures  15th_century  \\\n",
       "0                      0            0              0             0   \n",
       "1                      0            0              0             0   \n",
       "2                      0            0              0             0   \n",
       "3                      0            0              0             0   \n",
       "4                      0            0              0             0   \n",
       "\n",
       "   17th_century  18th_century  1920s  1930s  1940s  1950s  ...  æt_delhomme  \\\n",
       "0             0             0      0      0      0      0  ...            0   \n",
       "1             0             0      0      0      0      0  ...            0   \n",
       "2             0             0      0      0      0      0  ...            0   \n",
       "3             0             0      0      0      0      0  ...            0   \n",
       "4             0             0      0      0      0      0  ...            0   \n",
       "\n",
       "   æt_magimel  ñski  òverste_hylde  ópalo_films  ô_bucur  ökerman  \\\n",
       "0           0     0              0            0        0        0   \n",
       "1           0     0              0            0        0        0   \n",
       "2           0     0              0            0        0        0   \n",
       "3           0     0              0            0        0        0   \n",
       "4           0     0              0            0        0        0   \n",
       "\n",
       "   österreichischer_rundfunk_  øm  ƒçek  \n",
       "0                           0   0     0  \n",
       "1                           0   0     0  \n",
       "2                           0   0     0  \n",
       "3                           0   0     0  \n",
       "4                           0   0     0  \n",
       "\n",
       "[5 rows x 7059 columns]"
      ]
     },
     "execution_count": 191,
     "metadata": {},
     "output_type": "execute_result"
    }
   ],
   "source": [
    "# Store the transformed data\n",
    "X1_df = pd.DataFrame(final_df_cv.todense(), columns=cv.get_feature_names())\n",
    "X1_df.head()"
   ]
  },
  {
   "cell_type": "code",
   "execution_count": 192,
   "metadata": {},
   "outputs": [
    {
     "data": {
      "text/plain": [
       "(2609, 7059)"
      ]
     },
     "execution_count": 192,
     "metadata": {},
     "output_type": "execute_result"
    }
   ],
   "source": [
    "X1_df.shape"
   ]
  },
  {
   "cell_type": "code",
   "execution_count": 195,
   "metadata": {},
   "outputs": [
    {
     "data": {
      "text/plain": [
       "(2609, 21)"
      ]
     },
     "execution_count": 195,
     "metadata": {},
     "output_type": "execute_result"
    }
   ],
   "source": [
    "tmdb_orig.shape"
   ]
  },
  {
   "cell_type": "code",
   "execution_count": 196,
   "metadata": {},
   "outputs": [],
   "source": [
    "X1_df['popularity'] = tmdb_orig['popularity']"
   ]
  },
  {
   "cell_type": "code",
   "execution_count": 200,
   "metadata": {},
   "outputs": [
    {
     "data": {
      "text/plain": [
       "(2602, 7059)"
      ]
     },
     "execution_count": 200,
     "metadata": {},
     "output_type": "execute_result"
    }
   ],
   "source": [
    "X1_df = X1_df[X1_df['popularity']<100]\n",
    "X1_df.shape"
   ]
  },
  {
   "cell_type": "code",
   "execution_count": 201,
   "metadata": {},
   "outputs": [],
   "source": [
    "X1_df.drop(columns='popularity', inplace=True) "
   ]
  },
  {
   "cell_type": "code",
   "execution_count": 202,
   "metadata": {},
   "outputs": [
    {
     "data": {
      "text/plain": [
       "(2602, 7058)"
      ]
     },
     "execution_count": 202,
     "metadata": {},
     "output_type": "execute_result"
    }
   ],
   "source": [
    "X1_df.shape"
   ]
  },
  {
   "cell_type": "code",
   "execution_count": 205,
   "metadata": {},
   "outputs": [],
   "source": [
    "df_concat = pd.concat([tmdb,X1_df], axis=1)"
   ]
  },
  {
   "cell_type": "code",
   "execution_count": 206,
   "metadata": {},
   "outputs": [
    {
     "data": {
      "text/plain": [
       "(2602, 7068)"
      ]
     },
     "execution_count": 206,
     "metadata": {},
     "output_type": "execute_result"
    }
   ],
   "source": [
    "df_concat.shape"
   ]
  },
  {
   "cell_type": "markdown",
   "metadata": {},
   "source": [
    "## Modeling"
   ]
  },
  {
   "cell_type": "code",
   "execution_count": 208,
   "metadata": {},
   "outputs": [
    {
     "data": {
      "text/plain": [
       "Index(['title', 'budget', 'original_language', 'popularity', 'release_date',\n",
       "       'runtime', 'revenue', 'month', 'year', 'log_revenue'],\n",
       "      dtype='object')"
      ]
     },
     "execution_count": 208,
     "metadata": {},
     "output_type": "execute_result"
    }
   ],
   "source": [
    "tmdb.columns"
   ]
  },
  {
   "cell_type": "code",
   "execution_count": 209,
   "metadata": {},
   "outputs": [],
   "source": [
    "# model_features = ['budget','original_language','popularity','runtime','month','year']\n",
    "# model_features = ['budget','popularity','runtime','year']\n",
    "X2 = df_concat.drop(columns=['title','release_date','revenue','log_revenue'])\n",
    "X2 = pd.get_dummies(data=X2,columns=['original_language'], drop_first=True)\n",
    "y2 = df_concat['revenue'] # target"
   ]
  },
  {
   "cell_type": "code",
   "execution_count": 210,
   "metadata": {},
   "outputs": [],
   "source": [
    "X2_train, X2_test, y2_train, y2_test = train_test_split(X2, y2, random_state=42)"
   ]
  },
  {
   "cell_type": "markdown",
   "metadata": {},
   "source": [
    "## Linear Regression with CountVectorized columns"
   ]
  },
  {
   "cell_type": "code",
   "execution_count": 211,
   "metadata": {},
   "outputs": [
    {
     "data": {
      "text/plain": [
       "(0.5391305312250123, 0.07144758652129048)"
      ]
     },
     "execution_count": 211,
     "metadata": {},
     "output_type": "execute_result"
    }
   ],
   "source": [
    "# instantiate\n",
    "lr2 = LinearRegression()\n",
    "cross_val_score(estimator=lr2, X=X2_train, y=y2_train).mean(), cross_val_score(estimator=lr2, X=X2_train, y=y2_train).std()"
   ]
  },
  {
   "cell_type": "code",
   "execution_count": 217,
   "metadata": {},
   "outputs": [
    {
     "data": {
      "text/plain": [
       "LinearRegression()"
      ]
     },
     "execution_count": 217,
     "metadata": {},
     "output_type": "execute_result"
    }
   ],
   "source": [
    "lr2.fit(X2_train, y2_train)"
   ]
  },
  {
   "cell_type": "code",
   "execution_count": 218,
   "metadata": {},
   "outputs": [
    {
     "data": {
      "text/plain": [
       "0.9999999999999645"
      ]
     },
     "execution_count": 218,
     "metadata": {},
     "output_type": "execute_result"
    }
   ],
   "source": [
    "lr2.score(X2_train, y2_train)"
   ]
  },
  {
   "cell_type": "code",
   "execution_count": 219,
   "metadata": {},
   "outputs": [
    {
     "data": {
      "text/plain": [
       "0.36301465185036197"
      ]
     },
     "execution_count": 219,
     "metadata": {},
     "output_type": "execute_result"
    }
   ],
   "source": [
    "lr2.score(X2_test, y2_test)"
   ]
  },
  {
   "cell_type": "markdown",
   "metadata": {},
   "source": [
    "This model is way overfit. And performs worse than the basic LinearRegression model. This one has an R^2 of 0.36."
   ]
  },
  {
   "cell_type": "code",
   "execution_count": 220,
   "metadata": {},
   "outputs": [],
   "source": [
    "y2_preds = lr2.predict(X2_test)"
   ]
  },
  {
   "cell_type": "code",
   "execution_count": 221,
   "metadata": {},
   "outputs": [],
   "source": [
    "resids2 = y2_test - y2_preds"
   ]
  },
  {
   "cell_type": "code",
   "execution_count": 226,
   "metadata": {},
   "outputs": [
    {
     "data": {
      "image/png": "[encoded data removed]",
      "text/plain": [
       "<Figure size 432x288 with 1 Axes>"
      ]
     },
     "metadata": {
      "needs_background": "light"
     },
     "output_type": "display_data"
    }
   ],
   "source": [
    "plt.scatter(y2_test,resids2)\n",
    "plt.title('Residual for LinReg with CountVect')\n",
    "plt.xlabel('y_test ($)')\n",
    "plt.ylabel('Residual ($)')\n",
    "plt.show()"
   ]
  },
  {
   "cell_type": "markdown",
   "metadata": {},
   "source": [
    "The residual distribution has a pattern to it, which means our linear regression model is not great."
   ]
  },
  {
   "cell_type": "code",
   "execution_count": 227,
   "metadata": {},
   "outputs": [
    {
     "name": "stdout",
     "output_type": "stream",
     "text": [
      "89105473.01635109\n"
     ]
    }
   ],
   "source": [
    "# root mean squared error (RMSE)\n",
    "RMSE2 = metrics.mean_squared_error(y_true=y2_test, y_pred=y2_preds, squared=False) \n",
    "print(RMSE2)"
   ]
  },
  {
   "cell_type": "code",
   "execution_count": 224,
   "metadata": {},
   "outputs": [
    {
     "name": "stdout",
     "output_type": "stream",
     "text": [
      "111935927.95849217\n"
     ]
    }
   ],
   "source": [
    "# baseline model (average of revenue)\n",
    "# avg_rev = np.full((len(y_test),1), tmdb['revenue'].mean())\n",
    "# RMSE_bsl = metrics.mean_squared_error(y_true=y_test, y_pred=avg_rev, squared=False) \n",
    "print(RMSE_bsl)"
   ]
  },
  {
   "cell_type": "markdown",
   "metadata": {},
   "source": [
    "Our Linear Regression model (that has now taken into account additional features such as Production Country, Cast, and Crew) performs worse than the basic LinearRegression model that just took numerical features (and language) into account. It is severely overfit. The RMSE is \\\\$89.1M. Though this RMSE is still better than the baseline model using average revenue (\\\\$112M)."
   ]
  },
  {
   "cell_type": "code",
   "execution_count": 228,
   "metadata": {},
   "outputs": [
    {
     "data": {
      "text/html": [
       "<div>\n",
       "<style scoped>\n",
       "    .dataframe tbody tr th:only-of-type {\n",
       "        vertical-align: middle;\n",
       "    }\n",
       "\n",
       "    .dataframe tbody tr th {\n",
       "        vertical-align: top;\n",
       "    }\n",
       "\n",
       "    .dataframe thead th {\n",
       "        text-align: right;\n",
       "    }\n",
       "</style>\n",
       "<table border=\"1\" class=\"dataframe\">\n",
       "  <thead>\n",
       "    <tr style=\"text-align: right;\">\n",
       "      <th></th>\n",
       "      <th>Coefficients</th>\n",
       "    </tr>\n",
       "  </thead>\n",
       "  <tbody>\n",
       "    <tr>\n",
       "      <th>budget</th>\n",
       "      <td>2.095839e+00</td>\n",
       "    </tr>\n",
       "    <tr>\n",
       "      <th>popularity</th>\n",
       "      <td>4.531137e+06</td>\n",
       "    </tr>\n",
       "    <tr>\n",
       "      <th>runtime</th>\n",
       "      <td>1.771687e+05</td>\n",
       "    </tr>\n",
       "    <tr>\n",
       "      <th>month</th>\n",
       "      <td>-5.861070e+05</td>\n",
       "    </tr>\n",
       "    <tr>\n",
       "      <th>year</th>\n",
       "      <td>-1.354282e+06</td>\n",
       "    </tr>\n",
       "  </tbody>\n",
       "</table>\n",
       "</div>"
      ],
      "text/plain": [
       "            Coefficients\n",
       "budget      2.095839e+00\n",
       "popularity  4.531137e+06\n",
       "runtime     1.771687e+05\n",
       "month      -5.861070e+05\n",
       "year       -1.354282e+06"
      ]
     },
     "execution_count": 228,
     "metadata": {},
     "output_type": "execute_result"
    }
   ],
   "source": [
    "# coeff\n",
    "pd.DataFrame(lr2.coef_, index=X2.columns, columns=['Coefficients']).head()\n",
    "# lr.coef_"
   ]
  },
  {
   "cell_type": "markdown",
   "metadata": {},
   "source": [
    "For each \\\\$1 increase in budget, the revenue would increase by \\\\$2.10, all else remaining equal."
   ]
  },
  {
   "cell_type": "markdown",
   "metadata": {},
   "source": [
    "## Random Forest with CountVectorized Columns"
   ]
  },
  {
   "cell_type": "code",
   "execution_count": 230,
   "metadata": {},
   "outputs": [],
   "source": [
    "## this model ran for 15mins without completing\n",
    "\n",
    "# rfr2 = RandomForestRegressor()\n",
    "\n",
    "# # define dictionary of hyperparameters\n",
    "# rfr2_params = {\n",
    "#     'n_estimators': [10, 100, 200, 500],\n",
    "#     'max_depth': [5, 10, 20],\n",
    "#     'random_state': [42]\n",
    "# }\n",
    "\n",
    "# # instantiate GridSearchCV object\n",
    "# rfr2_gs = GridSearchCV(estimator = rfr2,\n",
    "#                      param_grid = rfr2_params,\n",
    "#                      cv=5,\n",
    "#                      verbose=1,\n",
    "#                      n_jobs=4)\n",
    "\n",
    "# # Fit the GridSearchCV object to the data.\n",
    "# rfr2_gs.fit(X2_train, y2_train);"
   ]
  },
  {
   "cell_type": "markdown",
   "metadata": {},
   "source": [
    "It looks like budget is most important, followed by popularity."
   ]
  },
  {
   "cell_type": "code",
   "execution_count": null,
   "metadata": {},
   "outputs": [],
   "source": []
  }
 ],
 "metadata": {
  "kernelspec": {
   "display_name": "Python 3",
   "language": "python",
   "name": "python3"
  },
  "language_info": {
   "codemirror_mode": {
    "name": "ipython",
    "version": 3
   },
   "file_extension": ".py",
   "mimetype": "text/x-python",
   "name": "python",
   "nbconvert_exporter": "python",
   "pygments_lexer": "ipython3",
   "version": "3.8.5"
  }
 },
 "nbformat": 4,
 "nbformat_minor": 4
}
